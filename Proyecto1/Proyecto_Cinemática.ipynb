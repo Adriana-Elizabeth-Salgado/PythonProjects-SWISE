{
  "nbformat": 4,
  "nbformat_minor": 0,
  "metadata": {
    "colab": {
      "name": "Proyecto_Cinemática.ipynb",
      "provenance": [],
      "collapsed_sections": [],
      "include_colab_link": true
    },
    "kernelspec": {
      "name": "python3",
      "display_name": "Python 3"
    }
  },
  "cells": [
    {
      "cell_type": "markdown",
      "metadata": {
        "id": "view-in-github",
        "colab_type": "text"
      },
      "source": [
        "<a href=\"https://colab.research.google.com/github/CrysthelAparicio/PythonProjects-SWISE/blob/master/Proyecto1/Proyecto_Cinem%C3%A1tica.ipynb\" target=\"_parent\"><img src=\"https://colab.research.google.com/assets/colab-badge.svg\" alt=\"Open In Colab\"/></a>"
      ]
    },
    {
      "cell_type": "markdown",
      "metadata": {
        "id": "4HFshOu6gEp8",
        "colab_type": "text"
      },
      "source": [
        "# **Bienvenido  a nuestra primera entrega del proyecto de Cinemática!**\n",
        "# Integrado por: \n",
        "1. Crysthel Aparicio Bonilla\n",
        "2. Douglas Acosta\n",
        "3. Oscar Alcántara "
      ]
    },
    {
      "cell_type": "markdown",
      "metadata": {
        "id": "85N4a8WmgpAB",
        "colab_type": "text"
      },
      "source": [
        "**Ejercicio #1** "
      ]
    },
    {
      "cell_type": "code",
      "metadata": {
        "id": "8Oi4YJf6gHI-",
        "colab_type": "code",
        "colab": {
          "base_uri": "https://localhost:8080/",
          "height": 170
        },
        "outputId": "49cd15a0-4c16-4a46-f74a-9a688ff0149d"
      },
      "source": [
        "import numpy as np \n",
        "import math\n",
        "import matplotlib.pyplot as plt\n",
        "y0 = float(input(\"Ingrese su posición incial : \"))\n",
        "print(y0)\n",
        "\n",
        "v0 = float(input(\"Ingrese su velocidad incial : \"))\n",
        "print(v0)\n",
        "\n",
        "#Posición Final donde caerá el proyectil. \n",
        "y = float(input(\"Ingrese su posición final : \"))\n",
        "print(y)\n",
        "\n",
        "ay = float(input(\"Ingrese su aceleración : \"))\n",
        "print(ay)\n",
        "\n",
        "a = 1\n",
        "try:\n",
        "  b = -2*v0/ay\n",
        "except:\n",
        "  print(\"No se permite la división entre cero\")\n",
        "c = 2*(y-y0)/ay\n",
        "\n",
        "#t = (2*v0/ay)\n",
        "d = b**2-4*a*c # discriminante\n",
        "if d < 0:\n",
        "    print (\"Esta ecuación no tiene solución en los reales\")\n",
        "elif d == 0:\n",
        "    t = (-b+math.sqrt(b**2-4*a*c))/2*a\n",
        "    print (\"Esta ecuación tiene una única solución: \", t)\n",
        "else:\n",
        "    t1 = (-b+math.sqrt((b**2)-(4*(a*c))))/(2*a)\n",
        "    t2 = (-b-math.sqrt((b**2)-(4*(a*c))))/(2*a)\n",
        "    if t1 > 0:\n",
        "        print (\"El tiempo total es: \", t1)\n",
        "    elif t2 > 0:\n",
        "        print (\"El tiempo total es: \", t2)\n",
        "    else: \n",
        "        print (\"No existe solución\")\n"
      ],
      "execution_count": 36,
      "outputs": [
        {
          "output_type": "stream",
          "text": [
            "Ingrese su posición incial : 0\n",
            "0.0\n",
            "Ingrese su velocidad incial : 30\n",
            "30.0\n",
            "Ingrese su posición final : 35\n",
            "35.0\n",
            "Ingrese su aceleración : 9.8\n",
            "9.8\n",
            "El tiempo total es:  4.553952942686509\n"
          ],
          "name": "stdout"
        }
      ]
    },
    {
      "cell_type": "markdown",
      "metadata": {
        "id": "8FAS3lL_hFrP",
        "colab_type": "text"
      },
      "source": [
        "**Ejercicio #2**"
      ]
    },
    {
      "cell_type": "code",
      "metadata": {
        "id": "BEcZvxwehLHW",
        "colab_type": "code",
        "colab": {
          "base_uri": "https://localhost:8080/",
          "height": 612
        },
        "outputId": "255a7bd2-0baa-4c12-b1c4-c2520cbc3f48"
      },
      "source": [
        "import numpy as np \n",
        "import math\n",
        "\n",
        "def imprimir():\n",
        "    print(\"________________________\")\n",
        "    print(\"__________MENU__________\")\n",
        "    print(\"________________________\")\n",
        "    print()\n",
        "    print(\"Opciones disponibles:\")\n",
        "    print(\"1.Presione 1 si los datos son componenentes en X y en angulo\")\n",
        "    print(\"2.Presione 2 si los datos son componentes en Y y en angulo\")\n",
        "    print(\"3.Presione 3 si conoce la velocidad pero no sus componentes y el angulo\")\n",
        "    print(\"0. Salir\")\n",
        "    print()\n",
        "\n",
        "\n",
        "def menu():\n",
        "    while True:\n",
        "        imprimir()\n",
        "        try:\n",
        "            entrada_usuario = float(input(\"Seleccione una opcion: \"))\n",
        "\n",
        "            if entrada_usuario in range(5):\n",
        "\n",
        "                if entrada_usuario == 0:\n",
        "                    print(\"Adios! Vuelva pronto\")\n",
        "                    break\n",
        "                print()\n",
        "\n",
        "                if entrada_usuario == 1:\n",
        "                  V0x = float(input(\"Ingrese su velocidad Inicial en X : \"))\n",
        "                  print(V0x)\n",
        "                  angulo = int(input(\"Ingrese el angulo: \"))\n",
        "                  print(angulo)\n",
        "                  V0 = V0x/math.cos(angulo)\n",
        "                  V0y = math.sin(angulo)*V0\n",
        "\n",
        "                if entrada_usuario == 2:\n",
        "                  V0y = float(input(\"Ingrese su velocidad Inicial en Y : \"))\n",
        "                  print(V0y)\n",
        "                  angulo = float(input(\"Ingrese el angulo: \"))\n",
        "                  print(angulo)\n",
        "                  V0 = V0x/math.sin(angulo)\n",
        "                  V0x = math.cos(angulo)*V0\n",
        "\n",
        "                if entrada_usuario == 3:\n",
        "                  V0 = float(input(\"Ingrese su velocidad Inicial: \"))\n",
        "                  print(V0)\n",
        "                  angulo = float(input(\"Ingrese el angulo: \"))\n",
        "                  print(angulo)\n",
        "                  V0y = math.sin(angulo)*V0\n",
        "                  V0x = math.cos(angulo)*V0\n",
        "\n",
        "            else:\n",
        "                print('Error, solo de aceptan numeros del 0 al 4')\n",
        "\n",
        "        except ValueError:\n",
        "            print(\"Error, ingrese solamente numeros\")\n",
        "        \n",
        "        ay = float(input(\"Ingrese su aceleración : \"))\n",
        "        print(ay)\n",
        "\n",
        "        t = float(input(\"Ingrese el tiempo : \"))\n",
        "        print(t)\n",
        "\n",
        "        Vx = V0x\n",
        "        Vy = V0y - ay*t\n",
        "        V = math.sqrt((Vx**2)+(Vy**2))\n",
        "\n",
        "        try:\n",
        "          print(\"El porcenjate de la velocidad en x:\", round(Vx/V0x*100, 2))\n",
        "          print(\"El porcenjate de la velocidad en y:\", round(abs(Vy/V0y*100)), 2) #valor absoluto\n",
        "          print(\"El porcenjate de la velocidad total:\", round(V/V0*100, 2))\n",
        "        except:\n",
        "          print(\"No se permite la division entre cero\")\n",
        "\n",
        "if __name__ == '__main__':\n",
        "    menu()"
      ],
      "execution_count": 33,
      "outputs": [
        {
          "output_type": "stream",
          "text": [
            "________________________\n",
            "__________MENU__________\n",
            "________________________\n",
            "\n",
            "Opciones disponibles:\n",
            "1.Presione 1 si los datos son componenentes en X y en angulo\n",
            "2.Presione 2 si los datos son componentes en Y y en angulo\n",
            "3.Presione 3 si conoce la velocidad pero no sus componentes y el angulo\n",
            "0. Salir\n",
            "\n",
            "Seleccione una opcion: 3\n",
            "\n",
            "Ingrese su velocidad Inicial: 15\n",
            "15.0\n",
            "Ingrese el angulo: 15\n",
            "15.0\n",
            "Ingrese su aceleración : 9.8\n",
            "9.8\n",
            "Ingrese el tiempo : 10\n",
            "10.0\n",
            "El porcenjate de la velocidad en x: 100.0\n",
            "El porcenjate de la velocidad en y: 905 2\n",
            "El porcenjate de la velocidad total: 593.19\n",
            "________________________\n",
            "__________MENU__________\n",
            "________________________\n",
            "\n",
            "Opciones disponibles:\n",
            "1.Presione 1 si los datos son componenentes en X y en angulo\n",
            "2.Presione 2 si los datos son componentes en Y y en angulo\n",
            "3.Presione 3 si conoce la velocidad pero no sus componentes y el angulo\n",
            "0. Salir\n",
            "\n",
            "Seleccione una opcion: 0\n",
            "Adios! Vuelva pronto\n"
          ],
          "name": "stdout"
        }
      ]
    },
    {
      "cell_type": "markdown",
      "metadata": {
        "id": "J-R7mY3HhO_J",
        "colab_type": "text"
      },
      "source": [
        "**Ejercicio #3**\n"
      ]
    },
    {
      "cell_type": "code",
      "metadata": {
        "id": "AYQkJdrIhYac",
        "colab_type": "code",
        "colab": {
          "base_uri": "https://localhost:8080/",
          "height": 153
        },
        "outputId": "a6d80d87-ade9-434c-c6da-3a4f039de196"
      },
      "source": [
        "def alturaMax(y0, v0y, ay):\n",
        "    try:     \n",
        "      result = y0 + 2*(v0y**2)/ay\n",
        "      return(result)\n",
        "    except:\n",
        "      print(\"No se permite la division entre cero\")\n",
        "\n",
        "def tiempoMax(v0y, ay):\n",
        "    result = v0y/ay\n",
        "    return(result)\n",
        "\n",
        "y0 = float(input(\"Ingrese su posición incial en y: \"))\n",
        "print(y0)\n",
        "\n",
        "v0y = float(input(\"Ingrese su velocidad incial en y : \"))\n",
        "print(v0y)\n",
        "\n",
        "ay = float(input(\"Ingrese su aceleración : \"))\n",
        "print(ay)\n",
        "\n",
        "print(\"El resultado de la altura máxima es:\", round(alturaMax(y0, v0y, ay)))\n",
        "print(\"El resultado del tiempo máximo es:\", round(tiempoMax(v0y, ay)))"
      ],
      "execution_count": 39,
      "outputs": [
        {
          "output_type": "stream",
          "text": [
            "Ingrese su posición incial en y: 0\n",
            "0.0\n",
            "Ingrese su velocidad incial en y : 10\n",
            "10.0\n",
            "Ingrese su aceleración : 9.8\n",
            "9.8\n",
            "El resultado de la altura máxima es: 20\n",
            "El resultado del tiempo máximo es: 1\n"
          ],
          "name": "stdout"
        }
      ]
    },
    {
      "cell_type": "markdown",
      "metadata": {
        "id": "-wmLDfU_hbX2",
        "colab_type": "text"
      },
      "source": [
        "**Ejercicio #4**"
      ]
    },
    {
      "cell_type": "code",
      "metadata": {
        "id": "3vbxuIjehlFl",
        "colab_type": "code",
        "colab": {
          "base_uri": "https://localhost:8080/",
          "height": 204
        },
        "outputId": "4a07325f-3d17-451a-dd49-c3266ebc2d88"
      },
      "source": [
        "import numpy as np \n",
        "import math\n",
        "import matplotlib.pyplot as plt\n",
        "\n",
        "px = int(input(\"Ingrese su posición final en x: \"))\n",
        "print(px)\n",
        "\n",
        "py = int(input(\"Ingrese su posición final en y: \"))\n",
        "print(py)\n",
        "\n",
        "w = int(input(\"Ingrese el ancho de la fortaleza: \"))\n",
        "print(w)\n",
        "\n",
        "h = int(input(\"Ingrese la altura de la fortaleza: \"))\n",
        "print(h)\n",
        "\n",
        "ay = float(input(\"Ingrese su aceleración : \"))\n",
        "print(ay)\n",
        "\n",
        "a = 1\n",
        "try:\n",
        "  b = -(px+w)/ay\n",
        "except:\n",
        "  print(\"No se permite la division entre cero\")\n",
        "c = (py+ay+h)/ay\n",
        "\n",
        "d = (b)**2-4*a*c # discriminante\n",
        "if d < 0:\n",
        "    print (\"Esta ecuación no tiene solución en los reales\")\n",
        "elif d == 0:\n",
        "    angulo = math.atan((-b/2*a))    \n",
        "    print (\"Esta ecuación tiene una única solución\", round(angulo,2))\n",
        "else:\n",
        "    angulo1 = math.atan((-b+math.sqrt((b**2)-(4*(a*c))))/(2*a))\n",
        "    angulo2 = math.atan((-b-math.sqrt((b**2)-(4*(a*c))))/(2*a))\n",
        "    if angulo1 or angulo2 <= math.pi/2:\n",
        "        print (\"Los angulos totales serían: \", round(angulo1,2), \"y\", round(angulo2,2))\n",
        "        #print (\"El tiempo total es: \", angulo2)\n",
        "    else: \n",
        "        print (\"No existe solución\")"
      ],
      "execution_count": 48,
      "outputs": [
        {
          "output_type": "stream",
          "text": [
            "Ingrese su posición final en x: 25\n",
            "25\n",
            "Ingrese su posición final en y: 10\n",
            "10\n",
            "Ingrese el ancho de la fortaleza: 50\n",
            "50\n",
            "Ingrese la altura de la fortaleza: 30\n",
            "30\n",
            "Ingrese su aceleración : 9.8\n",
            "9.8\n",
            "Los angulos totales serían:  1.43 y 0.63\n"
          ],
          "name": "stdout"
        }
      ]
    },
    {
      "cell_type": "markdown",
      "metadata": {
        "id": "__H8yofShpUl",
        "colab_type": "text"
      },
      "source": [
        "**Ejercicio #5**"
      ]
    },
    {
      "cell_type": "code",
      "metadata": {
        "id": "hGGcufHlhvDC",
        "colab_type": "code",
        "colab": {
          "base_uri": "https://localhost:8080/",
          "height": 272
        },
        "outputId": "3d4c6a75-7868-4fa1-960e-9ad3d9101831"
      },
      "source": [
        "import numpy as np \n",
        "import math\n",
        "import matplotlib.pyplot as plt\n",
        "x0 = float(input(\"Ingrese su posición incial en x: \"))\n",
        "print(x0)\n",
        "\n",
        "y0 = float(input(\"Ingrese su posición incial en y: \"))\n",
        "print(y0)\n",
        "\n",
        "v0y = float(input(\"Ingrese su velocidad incial en y: \"))\n",
        "print(v0y)\n",
        "\n",
        "v0x = float(input(\"Ingrese su velocidad incial en x: \"))\n",
        "print(v0x)\n",
        "\n",
        "#velocidad jugador\n",
        "vp = float(input(\"Ingrese la velocidad de la persona: \"))\n",
        "print(vp)\n",
        "\n",
        "#distancia de la persona a la pelota\n",
        "m = float(input(\"Ingrese la distancia de la persona a la pelota: \"))\n",
        "print(m)\n",
        "\n",
        "y = float(0.4)\n",
        "\n",
        "ay = float(input(\"Ingrese su aceleración : \"))\n",
        "print(ay)\n",
        "\n",
        "a = 1\n",
        "try:\n",
        "  b = -2*v0y/ay\n",
        "except:\n",
        "  print(\"No se permite la division entre cero\")\n",
        "c = 2*(y-y0)/ay\n",
        "\n",
        "#t = (2*v0/ay)\n",
        "d = b**2-4*a*c # discriminante\n",
        "if d < 0:\n",
        "    print (\"Esta ecuación no tiene solución en los reales\")\n",
        "if d == 0:\n",
        "    t = (-b/2*a)\n",
        "    distanciaPelota = x0+v0x*t\n",
        "    distanciaPersona = distanciaPelota-m\n",
        "    tiempoPersona = distanciaPersona/vp\n",
        "    if t < tiempoPersona: \n",
        "        print(\"La persona llega antes que la pelota a su destino\")\n",
        "    elif t > tiempoPersona: \n",
        "        tiempoCorrido = t-tiempoPersona\n",
        "        distanciaPelotaNew = x0+v0x*tiempoCorrido\n",
        "        print(\"La persona debe empezar a correr, cuando la pelota haya recorrido esta ditancia\",distanciaPelotaNew)\n",
        "    elif t == tiempoPersona:\n",
        "        print(\"La persona llega al mismo tiempo de la pelota si empieza a correr cuando la pelota esta en su posición de salida\")\n",
        "    else: \n",
        "        pass\n",
        "        \n",
        "else:\n",
        "    t1 = (-b+math.sqrt((b**2)-(4*(a*c))))/(2*a)\n",
        "    t2 = (-b-math.sqrt((b**2)-(4*(a*c))))/(2*a)\n",
        "    if t1 > 0:\n",
        "        print (\"El tiempo total es: \", t1)\n",
        "    elif t2 > 0:\n",
        "        print (\"El tiempo total es: \", t2)\n",
        "    else: \n",
        "        print (\"No existe solución\")"
      ],
      "execution_count": 59,
      "outputs": [
        {
          "output_type": "stream",
          "text": [
            "Ingrese su posición incial en x: 2\n",
            "2.0\n",
            "Ingrese su posición incial en y: 3\n",
            "3.0\n",
            "Ingrese su velocidad incial en y: 2\n",
            "2.0\n",
            "Ingrese su velocidad incial en x: 3\n",
            "3.0\n",
            "Ingrese la velocidad de la persona: 2\n",
            "2.0\n",
            "Ingrese la distancia de la persona a la pelota: 4\n",
            "4.0\n",
            "Ingrese su aceleración : 9.8\n",
            "9.8\n",
            "El tiempo total es:  0.9605613466469648\n"
          ],
          "name": "stdout"
        }
      ]
    },
    {
      "cell_type": "markdown",
      "metadata": {
        "id": "aN8DTcEhh0rD",
        "colab_type": "text"
      },
      "source": [
        "**Ejercicio #6**"
      ]
    },
    {
      "cell_type": "code",
      "metadata": {
        "id": "etNdwC4fh4UO",
        "colab_type": "code",
        "colab": {
          "base_uri": "https://localhost:8080/",
          "height": 258
        },
        "outputId": "596f4fde-9e74-4164-9599-0eb931718743"
      },
      "source": [
        "import matplotlib.pyplot as plt\n",
        "import numpy as np\n",
        "import itertools\n",
        "\n",
        "v0y = int(input(\"Ingrese su velocidad incial en y: \"))\n",
        "print(v0y)\n",
        "\n",
        "v0x = int(input(\"Ingrese su velocidad incial en x: \"))\n",
        "print(v0x)\n",
        "\n",
        "p0x = int(input(\"Ingrese la posición inicial en x: \"))\n",
        "print(p0x)\n",
        "\n",
        "p0y = int(input(\"Ingrese la posición inicial en y: \"))\n",
        "print(p0y)\n",
        "\n",
        "ay = float(input(\"Ingrese la aceleración: \"))\n",
        "print(ay)\n",
        "\n",
        "t1 = int(input(\"Ingrese el tiempo: \"))\n",
        "print(t1)\n",
        "\n",
        "#Creación del vector tiempo\n",
        "vt = np.arange(0,t1,0.2)\n",
        "\n",
        "R =  6.4*(10**6)\n",
        "\n",
        "lista_a_rellenar = []\n",
        "\n",
        "for t in vt:\n",
        "    x = p0x + v0x * t\n",
        "    y = p0y + (v0y * t)+(ay/2)*t**2\n",
        "    ay = ay*(R/(y+R))**2\n",
        "    lista_a_rellenar.append(float(round(ay,4)))\n",
        "\n",
        "\n",
        "paresOrdenados = list(itertools.zip_longest(vt, lista_a_rellenar))\n",
        "\n",
        "print(\"Par ordenado de tiempo con respecto a la aceleracion,\",paresOrdenados)\n",
        "\n",
        "#En este programa se ejemplifica en un recorrido con respecto \n",
        "#al tiempo del proyectil, donde obtiene la posición a cierta \n",
        "#aceleración gravitaciónal inicial, \n",
        "#la cual va variando con respecto a la posición que\n",
        "#depende del tiempo; la aceleración no depende directamente \n",
        "#del tiempo sino la posición la cual se modifica con el tiempo \n",
        "#y va influyendo en la gravedad con respecto a los cambios de altura"
      ],
      "execution_count": 61,
      "outputs": [
        {
          "output_type": "stream",
          "text": [
            "Ingrese su velocidad incial en y: 2\n",
            "2\n",
            "Ingrese su velocidad incial en x: 3\n",
            "3\n",
            "Ingrese la posición inicial en x: 10\n",
            "10\n",
            "Ingrese la posición inicial en y: 10\n",
            "10\n",
            "Ingrese la aceleración: 9.8\n",
            "9.8\n",
            "Ingrese el tiempo: 10\n",
            "10\n",
            "Par ordenado de tiempo con respecto a la aceleracion, [(0.0, 9.8), (0.2, 9.7999), (0.4, 9.7999), (0.6000000000000001, 9.7999), (0.8, 9.7998), (1.0, 9.7998), (1.2000000000000002, 9.7997), (1.4000000000000001, 9.7996), (1.6, 9.7996), (1.8, 9.7995), (2.0, 9.7994), (2.2, 9.7992), (2.4000000000000004, 9.7991), (2.6, 9.799), (2.8000000000000003, 9.7988), (3.0, 9.7986), (3.2, 9.7984), (3.4000000000000004, 9.7982), (3.6, 9.7979), (3.8000000000000003, 9.7977), (4.0, 9.7974), (4.2, 9.7971), (4.4, 9.7967), (4.6000000000000005, 9.7963), (4.800000000000001, 9.7959), (5.0, 9.7955), (5.2, 9.795), (5.4, 9.7945), (5.6000000000000005, 9.794), (5.800000000000001, 9.7934), (6.0, 9.7928), (6.2, 9.7922), (6.4, 9.7915), (6.6000000000000005, 9.7908), (6.800000000000001, 9.79), (7.0, 9.7892), (7.2, 9.7883), (7.4, 9.7874), (7.6000000000000005, 9.7865), (7.800000000000001, 9.7855), (8.0, 9.7845), (8.200000000000001, 9.7834), (8.4, 9.7823), (8.6, 9.7811), (8.8, 9.7798), (9.0, 9.7785), (9.200000000000001, 9.7772), (9.4, 9.7758), (9.600000000000001, 9.7743), (9.8, 9.7728)]\n"
          ],
          "name": "stdout"
        }
      ]
    },
    {
      "cell_type": "markdown",
      "metadata": {
        "id": "Mu4P3pLdiTdp",
        "colab_type": "text"
      },
      "source": [
        "**Ejercicio #7**"
      ]
    },
    {
      "cell_type": "code",
      "metadata": {
        "id": "aPdInF9EiYWk",
        "colab_type": "code",
        "colab": {
          "base_uri": "https://localhost:8080/",
          "height": 238
        },
        "outputId": "a34d50fc-c21f-48cb-f3a0-7c2ade549f6c"
      },
      "source": [
        "# Primera Forma \n",
        "import matplotlib.pyplot as plt\n",
        "import numpy as np\n",
        "import math\n",
        "\n",
        "p0x = float(input(\"Ingrese la posición inicial en x: \"))\n",
        "print(p0x)\n",
        "\n",
        "p0y = float(input(\"Ingrese la posición inicial en y: \"))\n",
        "print(p0y)\n",
        "\n",
        "pfy = float(input(\"Ingrese la posición final en y: \"))\n",
        "print(pfy)\n",
        "\n",
        "pfx = float(input(\"Ingrese la posición final en x: \"))\n",
        "print(pfx)\n",
        "\n",
        "ay = float(input(\"Ingrese la aceleración: \"))\n",
        "print(ay)\n",
        "\n",
        "t = float(input(\"Ingrese el tiempo: \"))\n",
        "print(t)\n",
        "\n",
        "try:\n",
        "  v0x = (pfx - p0x)/t\n",
        "  v0y = (pfy - (ay*t**2)/2)/t\n",
        "  v0 = math.sqrt(v0x**2 + v0y**2)\n",
        "  angulo = math.atan(v0y/v0x)\n",
        "except:\n",
        "  print(\"No se perminte la division entre cero\")\n",
        "\n",
        "print(\"Las componentes de la velocidad son las siguientes: \", round(v0x,2) , \"y\", round(v0y,2))\n"
      ],
      "execution_count": 65,
      "outputs": [
        {
          "output_type": "stream",
          "text": [
            "Ingrese la posición inicial en x: 1\n",
            "1.0\n",
            "Ingrese la posición inicial en y: 1\n",
            "1.0\n",
            "Ingrese la posición final en y: 25\n",
            "25.0\n",
            "Ingrese la posición final en x: 10\n",
            "10.0\n",
            "Ingrese la aceleración: 9.8\n",
            "9.8\n",
            "Ingrese el tiempo: 10\n",
            "10.0\n",
            "Las componentes de la velocidad son las siguientes:  0.9 y -46.5\n"
          ],
          "name": "stdout"
        }
      ]
    },
    {
      "cell_type": "code",
      "metadata": {
        "id": "dxApxxobxXD5",
        "colab_type": "code",
        "colab": {
          "base_uri": "https://localhost:8080/",
          "height": 238
        },
        "outputId": "5c6ce5c3-da32-406f-9938-d0b4422c87f2"
      },
      "source": [
        "#Forma 2 del Ejercicio 7\n",
        "import matplotlib.pyplot as plt\n",
        "import numpy as np\n",
        "import math\n",
        "\n",
        "p0x = float(input(\"Ingrese la posición inicial en x: \"))\n",
        "print(p0x)\n",
        "\n",
        "p0y = float(input(\"Ingrese la posición inicial en y: \"))\n",
        "print(p0y)\n",
        "\n",
        "pfy = float(input(\"Ingrese la posición final en y: \"))\n",
        "print(pfy)\n",
        "\n",
        "pfx = float(input(\"Ingrese la posición final en x: \"))\n",
        "print(pfx)\n",
        "\n",
        "ay = float(input(\"Ingrese la aceleración: \"))\n",
        "print(ay)\n",
        "\n",
        "angulo = float(input(\"Ingrese el angulo: \"))\n",
        "print(angulo)\n",
        "\n",
        "a = (1/2*ay*(pfx-p0x)**2)\n",
        "b = (pfx-p0x)*math.tan(angulo)-(pfy-p0y)\n",
        "c = (math.cos(angulo)**2)\n",
        "\n",
        "if b < 0:\n",
        "    print (\"Esta ecuación no tiene solución en los reales\")\n",
        "elif b > 0:\n",
        "    v0 = math.sqrt((a/b)*c)\n",
        "    print(\"La magnítud de la velocidad es la siguiente: \",round(v0,2))\n",
        "    "
      ],
      "execution_count": 69,
      "outputs": [
        {
          "output_type": "stream",
          "text": [
            "Ingrese la posición inicial en x: 15\n",
            "15.0\n",
            "Ingrese la posición inicial en y: 10\n",
            "10.0\n",
            "Ingrese la posición final en y: 35\n",
            "35.0\n",
            "Ingrese la posición final en x: 50\n",
            "50.0\n",
            "Ingrese la aceleración: 9.8\n",
            "9.8\n",
            "Ingrese el angulo: 120\n",
            "120.0\n",
            "Esta ecuación no tiene solución en los reales\n"
          ],
          "name": "stdout"
        }
      ]
    },
    {
      "cell_type": "markdown",
      "metadata": {
        "id": "48Re0Xn3ibhm",
        "colab_type": "text"
      },
      "source": [
        "# Llego el momento de los challenge's "
      ]
    },
    {
      "cell_type": "markdown",
      "metadata": {
        "id": "aFdZ8qy5ivR7",
        "colab_type": "text"
      },
      "source": [
        "**CHALLENGE #1**"
      ]
    },
    {
      "cell_type": "code",
      "metadata": {
        "id": "A-rNrn71iuaq",
        "colab_type": "code",
        "colab": {
          "base_uri": "https://localhost:8080/",
          "height": 377
        },
        "outputId": "1744d4e5-8d1f-413a-8d27-765823f6112c"
      },
      "source": [
        "import numpy as np \n",
        "import math\n",
        "import matplotlib.pyplot as plt\n",
        "from scipy.stats import truncnorm\n",
        "\n",
        "p0x = float(input(\"Ingrese su posición inicial en x: \"))\n",
        "print(p0x)\n",
        "\n",
        "p0y = float(input(\"Ingrese su posición inicial en y: \"))\n",
        "print(p0y)\n",
        "\n",
        "pfx = float(input(\"Ingrese su posición final en x: \"))\n",
        "print(p0x)\n",
        "\n",
        "ay = float(input(\"Ingrese su aceleración : \"))\n",
        "print(ay)\n",
        "\n",
        "v0 = float(input(\"Ingrese la magnitud de la velocidad : \"))\n",
        "print(v0)\n",
        "\n",
        "h = float(input(\"Ingrese la altura donde esta ubicado en la fortaleza : \"))\n",
        "print(h)\n",
        "\n",
        "h_persona = float(input(\"Ingrese su estatura : \"))\n",
        "print(h_persona)\n",
        "\n",
        "media = float(input(\"Ingrese la media : \"))\n",
        "print(media)\n",
        "\n",
        "sd = float(input(\"Ingrese la desviacion estandar : \"))\n",
        "print(sd)\n",
        "\n",
        "def get_truncated_normal(media, sd, minimo=0, maximo=math.pi/2):\n",
        "  try:\n",
        "    return truncnorm(\n",
        "        (minimo - media) / sd, (maximo - media) / sd, loc=media, scale=sd)\n",
        "  except:\n",
        "    print(\"No se permite la division entre cero\")\n",
        "\n",
        "valores = get_truncated_normal(media, sd)\n",
        "angulo = valores.rvs(10)\n",
        "dimension = len(angulo)\n",
        "\n",
        "valores_validos_alturas=[]\n",
        "valores_validos_angulos=[]\n",
        "\n",
        "for e in range(0,dimension):\n",
        "  y = p0y + math.tan(angulo[e])*(pfx-p0x) - (ay/2)*(((pfx-p0x)/(v0*math.cos(angulo[e])))**2)        \n",
        "  if y < (h+h_persona) or y > (h+h_persona):\n",
        "    valores_validos_alturas.append(y)\n",
        "    valores_validos_angulos.append(angulo[e])\n",
        "    #break\n",
        "\n",
        "print(\"El valor optimo de altura, sobre el cual deberia colocarme es,\",valores_validos_alturas)\n",
        "print(\"El angulo correspondiente a este valor es,\",valores_validos_angulos)"
      ],
      "execution_count": 75,
      "outputs": [
        {
          "output_type": "stream",
          "text": [
            "Ingrese su posición inicial en x: 0\n",
            "0.0\n",
            "Ingrese su posición inicial en y: 0\n",
            "0.0\n",
            "Ingrese su posición final en x: 25\n",
            "0.0\n",
            "Ingrese su aceleración : 9.8\n",
            "9.8\n",
            "Ingrese la magnitud de la velocidad : 2\n",
            "2.0\n",
            "Ingrese la altura donde esta ubicado en la fortaleza : 3\n",
            "3.0\n",
            "Ingrese su estatura : 5\n",
            "5.0\n",
            "Ingrese la media : 3\n",
            "3.0\n",
            "Ingrese la desviacion estandar : 1\n",
            "1.0\n",
            "El valor optimo de altura, sobre el cual deberia colocarme es, [-2626.14253649878, -6033.232226332305, -20304.363899542488, -1185.5635183121542, -1265.801387396876, -299426.06943159393, -1301.7995581058242, -54689.10251996552, -6889.606908116965, -2030.8154437274025]\n",
            "El angulo correspondiente a este valor es, [1.0051747734195005, 1.2086310381791054, 1.3759855284834606, 0.6480349425122753, 0.6896548273047354, 1.5202499405795682, 0.7064246020413463, 1.4524269878890517, 1.2327435417005639, 0.9158151828431613]\n"
          ],
          "name": "stdout"
        }
      ]
    },
    {
      "cell_type": "markdown",
      "metadata": {
        "id": "2NADEmkAkPjV",
        "colab_type": "text"
      },
      "source": [
        "**CHALLENGE #2**"
      ]
    },
    {
      "cell_type": "code",
      "metadata": {
        "id": "4v7w3vJVkUQL",
        "colab_type": "code",
        "colab": {
          "base_uri": "https://localhost:8080/",
          "height": 323
        },
        "outputId": "6210bcd4-5000-4a81-b7c5-7eb1f6892e03"
      },
      "source": [
        "import numpy as np \n",
        "import math\n",
        "import matplotlib.pyplot as plt\n",
        "from scipy.stats import truncnorm\n",
        "import random\n",
        "\n",
        "p0y = 0\n",
        "\n",
        "p0x = 0\n",
        "\n",
        "v0y = float(input(\"Ingrese la velocidad inicial en y del cohete: \"))\n",
        "print(v0y)\n",
        "\n",
        "v0x = float(input(\"Ingrese la velocidad inicial en x del cohete: \"))\n",
        "print(v0x)\n",
        "\n",
        "ay = float(input(\"Ingrese su aceleración: \"))\n",
        "print(ay)\n",
        "\n",
        "t = float(input(\"Ingrese el tiempo de vuelo del cohete: \"))\n",
        "print(t)\n",
        "\n",
        "n = int(input(\"Ingrese la cantidad de cohetes que van a salir: \"))\n",
        "print(n)\n",
        "\n",
        "m = -1\n",
        "posicion_en_y=[]\n",
        "posicion_en_x=[]\n",
        "\n",
        "while m < n:\n",
        "  y = p0y + v0y*t - (1/2)*ay*(t**2)\n",
        "  x = p0x + v0x*t\n",
        "  m = 1 + m\n",
        "  posicion_en_y.append(y)\n",
        "  posicion_en_x.append(x)\n",
        "  p0y=y\n",
        "  p0x=x\n",
        "  vx=v0x\n",
        "  vy=v0y+ay\n",
        "  v0y=vy\n",
        "  t= t + random.uniform(0,9)\n",
        "  print(t)\n",
        "\n",
        "print(\"La posicion final en x del ultimo cohete es \",round(posicion_en_x[n],2), \"metros\")\n",
        "print(\"La posicion final en y del ultimo cohete es \",round(posicion_en_y[n],2), \"metros\")"
      ],
      "execution_count": 78,
      "outputs": [
        {
          "output_type": "stream",
          "text": [
            "Ingrese la velocidad inicial en y del cohete: 5\n",
            "5.0\n",
            "Ingrese la velocidad inicial en x del cohete: 1\n",
            "1.0\n",
            "Ingrese su aceleración: 9.8\n",
            "9.8\n",
            "Ingrese el tiempo de vuelo del cohete: 1\n",
            "1.0\n",
            "Ingrese la cantidad de cohetes que van a salir: 5\n",
            "5\n",
            "5.304794023395943\n",
            "11.463686902932167\n",
            "15.25434359627433\n",
            "23.540332620794075\n",
            "24.097417602589342\n",
            "30.888785804879618\n",
            "La posicion final en x del ultimo cohete es  80.66 metros\n",
            "La posicion final en y del ultimo cohete es  -4255.6 metros\n"
          ],
          "name": "stdout"
        }
      ]
    },
    {
      "cell_type": "markdown",
      "metadata": {
        "id": "hYgVfU1-kXRE",
        "colab_type": "text"
      },
      "source": [
        "**CHALLENGE #3**"
      ]
    },
    {
      "cell_type": "code",
      "metadata": {
        "id": "l1KnbPA2kbJq",
        "colab_type": "code",
        "colab": {}
      },
      "source": [
        "#CHALLENGE 3\n",
        "import numpy as np \n",
        "import math\n",
        "import random\n",
        "\n",
        "\n",
        "#DATOS PROYECTIL #1\n",
        "p_inicial_1_x = float(input(\"Ingrese la posicion inicial en x del primer cohete: \"))\n",
        "print(p_inicial_1_x)\n",
        "\n",
        "p_inicial_y_fija = 0;\n",
        "\n",
        "v_inicial_1 = float(input(\"Ingrese la magnitud de la velocidad del primer cohete: \"))\n",
        "print(v_inicial_1)\n",
        "\n",
        "angulo_proyectil_1 = float(input(\"Ingrese el angulo inicial del primer cohete: \"))\n",
        "print(angulo_proyectil_1)\n",
        "\n",
        "ay = float(input(\"Ingrese su aceleración: \"))\n",
        "print(ay)\n",
        "\n",
        "#DATOS PROYECTIL #2\n",
        "v_inicial_2 = float(input(\"Ingrese la magnitud de la velocidad del segundo cohete: \"))\n",
        "print(v_inicial_2)\n",
        "\n",
        "angulo_proyectil_2 = float(input(\"Ingrese el angulo inicial del segundo cohete: \"))\n",
        "print(angulo_proyectil_2)\n",
        "\n",
        "#EXISTENCIA DE UN TIEMPO DE VUELO EN QUE AMBOS CHOQUEN\n",
        "\n",
        "#INFORMACION PARA INICIAR EL CONDICIONAL\n",
        "p_final_1_x = 1\n",
        "p_final_1_y = 0\n",
        "p_final_2_x = 1\n",
        "p_final_2_y = 0\n",
        "\n",
        "while p_final_1_x == p_final_2_x and p_final_1_y == p_final_2_y:\n",
        "  #t=random.uniform(0,120)\n",
        "  t=random.random()\n",
        "  p_final_1_x = (p_inicial_1_x) + ((v_inicial_1)*math.cos(angulo_proyectil_1))*t\n",
        "  p_final_1_y = (p_inicial_y_fija) + ((v_inicial_1)*math.sin(angulo_proyectil_1))*t + (1/2)*ay*(t)\n",
        "  p_final_2_x = (p_inicial_1_x) + ((v_inicial_2)*math.cos(angulo_proyectil_2))*t\n",
        "  p_final_2_y = (p_inicial_y_fija) + ((v_inicial_2)*math.sin(angulo_proyectil_2))*t + (1/2)*ay*(t)\n",
        "\n",
        "  print(\"La coordenada final en x, donde se cumple el choque para el proyectil 2 es,\",round(p_final_2_x,2))\n",
        "  print(\"La coordenada final en y, donde se cumple el choque para el proyectil 2 es,\",round(p_final_2_y,2))\n",
        "  print(\"El tiempo donde se da la colision es,\",round(t,2))"
      ],
      "execution_count": null,
      "outputs": []
    }
  ]
}