{
  "nbformat": 4,
  "nbformat_minor": 0,
  "metadata": {
    "colab": {
      "name": "Proyecto_Cinemática.ipynb",
      "provenance": [],
      "include_colab_link": true
    },
    "kernelspec": {
      "name": "python3",
      "display_name": "Python 3"
    }
  },
  "cells": [
    {
      "cell_type": "markdown",
      "metadata": {
        "id": "view-in-github",
        "colab_type": "text"
      },
      "source": [
        "<a href=\"https://colab.research.google.com/github/CrysthelAparicio/PythonProjects-SWISE/blob/master/Proyecto_Cinem%C3%A1tica.ipynb\" target=\"_parent\"><img src=\"https://colab.research.google.com/assets/colab-badge.svg\" alt=\"Open In Colab\"/></a>"
      ]
    },
    {
      "cell_type": "markdown",
      "metadata": {
        "id": "4HFshOu6gEp8",
        "colab_type": "text"
      },
      "source": [
        "# **Bienvenido  a nuestra primera entrega del proyecto de Cinemática!**\n",
        "# Integrado por: \n",
        "1. Crysthel Aparicio Bonilla\n",
        "2. Douglas Acosta\n",
        "3. Oscar Alcántara "
      ]
    },
    {
      "cell_type": "markdown",
      "metadata": {
        "id": "85N4a8WmgpAB",
        "colab_type": "text"
      },
      "source": [
        "**Ejercicio #1** "
      ]
    },
    {
      "cell_type": "code",
      "metadata": {
        "id": "8Oi4YJf6gHI-",
        "colab_type": "code",
        "colab": {
          "base_uri": "https://localhost:8080/",
          "height": 173
        },
        "outputId": "d5ac0ead-f2ee-4552-dcb0-5467e2364ef2"
      },
      "source": [
        "import numpy as np \n",
        "import math\n",
        "import matplotlib.pyplot as plt\n",
        "y0 = int(input(\"Ingrese su posición incial : \"))\n",
        "print(y0)\n",
        "\n",
        "v0 = int(input(\"Ingrese su velocidad incial : \"))\n",
        "print(v0)\n",
        "\n",
        "#Posición Final donde caerá el proyectil. \n",
        "y = int(input(\"Ingrese su posición final : \"))\n",
        "print(y)\n",
        "\n",
        "ay = float(input(\"Ingrese su aceleración : \"))\n",
        "print(ay)\n",
        "\n",
        "a = 1\n",
        "b = -2*v0/ay\n",
        "c = 2*(y-y0)/ay\n",
        "\n",
        "#t = (2*v0/ay)\n",
        "d = b**2-4*a*c # discriminante\n",
        "if d < 0:\n",
        "    print (\"Esta ecuación no tiene solución en los reales\")\n",
        "elif d == 0:\n",
        "    t = (-b+math.sqrt(b**2-4*a*c))/2*a\n",
        "    print (\"Esta ecuación tiene una única solución: \", t)\n",
        "else:\n",
        "    t1 = (-b+math.sqrt((b**2)-(4*(a*c))))/(2*a)\n",
        "    t2 = (-b-math.sqrt((b**2)-(4*(a*c))))/(2*a)\n",
        "    if t1 > 0:\n",
        "        print (\"El tiempo total es: \", t1)\n",
        "    elif t2 > 0:\n",
        "        print (\"El tiempo total es: \", t2)\n",
        "    else: \n",
        "        print (\"No existe solución\")\n"
      ],
      "execution_count": null,
      "outputs": [
        {
          "output_type": "stream",
          "text": [
            "Ingrese su posición incial : 10\n",
            "10\n",
            "Ingrese su velocidad incial : 0\n",
            "0\n",
            "Ingrese su posición final : 0\n",
            "0\n",
            "Ingrese su aceleración : 9.8\n",
            "9.8\n",
            "El tiempo total es:  1.4285714285714286\n"
          ],
          "name": "stdout"
        }
      ]
    },
    {
      "cell_type": "markdown",
      "metadata": {
        "id": "8FAS3lL_hFrP",
        "colab_type": "text"
      },
      "source": [
        "**Ejercicio #2**"
      ]
    },
    {
      "cell_type": "code",
      "metadata": {
        "id": "BEcZvxwehLHW",
        "colab_type": "code",
        "colab": {}
      },
      "source": [
        ""
      ],
      "execution_count": null,
      "outputs": []
    },
    {
      "cell_type": "markdown",
      "metadata": {
        "id": "J-R7mY3HhO_J",
        "colab_type": "text"
      },
      "source": [
        "**Ejercicio #3**\n"
      ]
    },
    {
      "cell_type": "code",
      "metadata": {
        "id": "AYQkJdrIhYac",
        "colab_type": "code",
        "colab": {}
      },
      "source": [
        ""
      ],
      "execution_count": null,
      "outputs": []
    },
    {
      "cell_type": "markdown",
      "metadata": {
        "id": "-wmLDfU_hbX2",
        "colab_type": "text"
      },
      "source": [
        "**Ejercicio #4**"
      ]
    },
    {
      "cell_type": "code",
      "metadata": {
        "id": "3vbxuIjehlFl",
        "colab_type": "code",
        "colab": {
          "base_uri": "https://localhost:8080/",
          "height": 204
        },
        "outputId": "e7a196ad-ed64-48a5-e5cf-0862c08f7e83"
      },
      "source": [
        "import numpy as np \n",
        "import math\n",
        "import matplotlib.pyplot as plt\n",
        "\n",
        "px = int(input(\"Ingrese su posición final en x: \"))\n",
        "print(px)\n",
        "\n",
        "py = int(input(\"Ingrese su posición final en y: \"))\n",
        "print(py)\n",
        "\n",
        "w = int(input(\"Ingrese el ancho de la fortaleza: \"))\n",
        "print(w)\n",
        "\n",
        "h = int(input(\"Ingrese la altura de la fortaleza: \"))\n",
        "print(h)\n",
        "\n",
        "ay = float(input(\"Ingrese su aceleración : \"))\n",
        "print(ay)\n",
        "\n",
        "a = 1\n",
        "b = -(px+w)/ay\n",
        "c = (py+ay+h)/ay\n",
        "\n",
        "d = (b)**2-4*a*c # discriminante\n",
        "if d < 0:\n",
        "    print (\"Esta ecuación no tiene solución en los reales\")\n",
        "elif d == 0:\n",
        "    angulo = math.atan((-b/2*a))    \n",
        "    print (\"Esta ecuación tiene una única solución\", round(angulo,2))\n",
        "else:\n",
        "    angulo1 = math.atan((-b+math.sqrt((b**2)-(4*(a*c))))/(2*a))\n",
        "    angulo2 = math.atan((-b-math.sqrt((b**2)-(4*(a*c))))/(2*a))\n",
        "    if angulo1 or angulo2 <= math.pi/2:\n",
        "        print (\"Los angulos totales serían: \", round(angulo1,2), \"y\", round(angulo2,2))\n",
        "        #print (\"El tiempo total es: \", angulo2)\n",
        "    else: \n",
        "        print (\"No existe solución\")"
      ],
      "execution_count": 1,
      "outputs": [
        {
          "output_type": "stream",
          "text": [
            "Ingrese su posición final en x: 90\n",
            "90\n",
            "Ingrese su posición final en y: 4\n",
            "4\n",
            "Ingrese el ancho de la fortaleza: 8\n",
            "8\n",
            "Ingrese la altura de la fortaleza: 10\n",
            "10\n",
            "Ingrese su aceleración : 9.81\n",
            "9.81\n",
            "Los angulos totales serían:  1.47 0.24\n"
          ],
          "name": "stdout"
        }
      ]
    },
    {
      "cell_type": "markdown",
      "metadata": {
        "id": "__H8yofShpUl",
        "colab_type": "text"
      },
      "source": [
        "**Ejercicio #5**"
      ]
    },
    {
      "cell_type": "code",
      "metadata": {
        "id": "hGGcufHlhvDC",
        "colab_type": "code",
        "colab": {}
      },
      "source": [
        ""
      ],
      "execution_count": null,
      "outputs": []
    },
    {
      "cell_type": "markdown",
      "metadata": {
        "id": "aN8DTcEhh0rD",
        "colab_type": "text"
      },
      "source": [
        "**Ejercicio #6**"
      ]
    },
    {
      "cell_type": "code",
      "metadata": {
        "id": "etNdwC4fh4UO",
        "colab_type": "code",
        "colab": {}
      },
      "source": [
        ""
      ],
      "execution_count": null,
      "outputs": []
    },
    {
      "cell_type": "markdown",
      "metadata": {
        "id": "Mu4P3pLdiTdp",
        "colab_type": "text"
      },
      "source": [
        "**Ejercicio #7**"
      ]
    },
    {
      "cell_type": "code",
      "metadata": {
        "id": "aPdInF9EiYWk",
        "colab_type": "code",
        "colab": {}
      },
      "source": [
        ""
      ],
      "execution_count": null,
      "outputs": []
    },
    {
      "cell_type": "markdown",
      "metadata": {
        "id": "48Re0Xn3ibhm",
        "colab_type": "text"
      },
      "source": [
        "# Llego el momento de los challenge's "
      ]
    },
    {
      "cell_type": "markdown",
      "metadata": {
        "id": "aFdZ8qy5ivR7",
        "colab_type": "text"
      },
      "source": [
        "**CHALLENGE #1**"
      ]
    },
    {
      "cell_type": "code",
      "metadata": {
        "id": "A-rNrn71iuaq",
        "colab_type": "code",
        "colab": {}
      },
      "source": [
        ""
      ],
      "execution_count": null,
      "outputs": []
    },
    {
      "cell_type": "markdown",
      "metadata": {
        "id": "2NADEmkAkPjV",
        "colab_type": "text"
      },
      "source": [
        "**CHALLENGE #2**"
      ]
    },
    {
      "cell_type": "code",
      "metadata": {
        "id": "4v7w3vJVkUQL",
        "colab_type": "code",
        "colab": {}
      },
      "source": [
        ""
      ],
      "execution_count": null,
      "outputs": []
    },
    {
      "cell_type": "markdown",
      "metadata": {
        "id": "hYgVfU1-kXRE",
        "colab_type": "text"
      },
      "source": [
        "**CHALLENGE #3**"
      ]
    },
    {
      "cell_type": "code",
      "metadata": {
        "id": "l1KnbPA2kbJq",
        "colab_type": "code",
        "colab": {}
      },
      "source": [
        ""
      ],
      "execution_count": null,
      "outputs": []
    }
  ]
}