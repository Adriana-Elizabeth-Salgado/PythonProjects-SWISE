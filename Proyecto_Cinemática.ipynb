{
  "nbformat": 4,
  "nbformat_minor": 0,
  "metadata": {
    "colab": {
      "name": "Proyecto_Cinemática.ipynb",
      "provenance": [],
      "authorship_tag": "ABX9TyN9BZh+bDYG1/I+0FQw013N",
      "include_colab_link": true
    },
    "kernelspec": {
      "name": "python3",
      "display_name": "Python 3"
    }
  },
  "cells": [
    {
      "cell_type": "markdown",
      "metadata": {
        "id": "view-in-github",
        "colab_type": "text"
      },
      "source": [
        "<a href=\"https://colab.research.google.com/github/CrysthelAparicio/PythonProjects-SWISE/blob/master/Proyecto_Cinem%C3%A1tica.ipynb\" target=\"_parent\"><img src=\"https://colab.research.google.com/assets/colab-badge.svg\" alt=\"Open In Colab\"/></a>"
      ]
    },
    {
      "cell_type": "markdown",
      "metadata": {
        "id": "4HFshOu6gEp8",
        "colab_type": "text"
      },
      "source": [
        "# **Bienvenido  a nuestra primera entrega del proyecto de Cinemática!**\n",
        "# Integrado por: \n",
        "1. Crysthel Aparicio Bonilla\n",
        "2. Douglas Acosta\n",
        "3. Oscar Alcántara "
      ]
    },
    {
      "cell_type": "markdown",
      "metadata": {
        "id": "85N4a8WmgpAB",
        "colab_type": "text"
      },
      "source": [
        "**Ejercicio #1** "
      ]
    },
    {
      "cell_type": "code",
      "metadata": {
        "id": "8Oi4YJf6gHI-",
        "colab_type": "code",
        "colab": {}
      },
      "source": [
        ""
      ],
      "execution_count": null,
      "outputs": []
    },
    {
      "cell_type": "markdown",
      "metadata": {
        "id": "8FAS3lL_hFrP",
        "colab_type": "text"
      },
      "source": [
        "**Ejercicio #2**"
      ]
    },
    {
      "cell_type": "code",
      "metadata": {
        "id": "BEcZvxwehLHW",
        "colab_type": "code",
        "colab": {}
      },
      "source": [
        ""
      ],
      "execution_count": null,
      "outputs": []
    },
    {
      "cell_type": "markdown",
      "metadata": {
        "id": "J-R7mY3HhO_J",
        "colab_type": "text"
      },
      "source": [
        "**Ejercicio #3**\n"
      ]
    },
    {
      "cell_type": "code",
      "metadata": {
        "id": "AYQkJdrIhYac",
        "colab_type": "code",
        "colab": {}
      },
      "source": [
        ""
      ],
      "execution_count": null,
      "outputs": []
    },
    {
      "cell_type": "markdown",
      "metadata": {
        "id": "-wmLDfU_hbX2",
        "colab_type": "text"
      },
      "source": [
        "**Ejercicio #4**"
      ]
    },
    {
      "cell_type": "code",
      "metadata": {
        "id": "3vbxuIjehlFl",
        "colab_type": "code",
        "colab": {}
      },
      "source": [
        ""
      ],
      "execution_count": null,
      "outputs": []
    },
    {
      "cell_type": "markdown",
      "metadata": {
        "id": "__H8yofShpUl",
        "colab_type": "text"
      },
      "source": [
        "**Ejercicio #5**"
      ]
    },
    {
      "cell_type": "code",
      "metadata": {
        "id": "hGGcufHlhvDC",
        "colab_type": "code",
        "colab": {}
      },
      "source": [
        ""
      ],
      "execution_count": null,
      "outputs": []
    },
    {
      "cell_type": "markdown",
      "metadata": {
        "id": "aN8DTcEhh0rD",
        "colab_type": "text"
      },
      "source": [
        "**Ejercicio #6**"
      ]
    },
    {
      "cell_type": "code",
      "metadata": {
        "id": "etNdwC4fh4UO",
        "colab_type": "code",
        "colab": {}
      },
      "source": [
        ""
      ],
      "execution_count": null,
      "outputs": []
    },
    {
      "cell_type": "markdown",
      "metadata": {
        "id": "Mu4P3pLdiTdp",
        "colab_type": "text"
      },
      "source": [
        "**Ejercicio #7**"
      ]
    },
    {
      "cell_type": "code",
      "metadata": {
        "id": "aPdInF9EiYWk",
        "colab_type": "code",
        "colab": {}
      },
      "source": [
        ""
      ],
      "execution_count": null,
      "outputs": []
    },
    {
      "cell_type": "markdown",
      "metadata": {
        "id": "48Re0Xn3ibhm",
        "colab_type": "text"
      },
      "source": [
        "# Llego el momento de los challenge's "
      ]
    },
    {
      "cell_type": "markdown",
      "metadata": {
        "id": "aFdZ8qy5ivR7",
        "colab_type": "text"
      },
      "source": [
        "**CHALLENGE #1**"
      ]
    },
    {
      "cell_type": "code",
      "metadata": {
        "id": "A-rNrn71iuaq",
        "colab_type": "code",
        "colab": {}
      },
      "source": [
        ""
      ],
      "execution_count": null,
      "outputs": []
    },
    {
      "cell_type": "markdown",
      "metadata": {
        "id": "2NADEmkAkPjV",
        "colab_type": "text"
      },
      "source": [
        "**CHALLENGE #2**"
      ]
    },
    {
      "cell_type": "code",
      "metadata": {
        "id": "4v7w3vJVkUQL",
        "colab_type": "code",
        "colab": {}
      },
      "source": [
        ""
      ],
      "execution_count": null,
      "outputs": []
    },
    {
      "cell_type": "markdown",
      "metadata": {
        "id": "hYgVfU1-kXRE",
        "colab_type": "text"
      },
      "source": [
        "**CHALLENGE #3**"
      ]
    },
    {
      "cell_type": "code",
      "metadata": {
        "id": "l1KnbPA2kbJq",
        "colab_type": "code",
        "colab": {}
      },
      "source": [
        ""
      ],
      "execution_count": null,
      "outputs": []
    }
  ]
}