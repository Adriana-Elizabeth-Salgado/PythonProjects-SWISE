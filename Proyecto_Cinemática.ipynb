{
  "nbformat": 4,
  "nbformat_minor": 0,
  "metadata": {
    "colab": {
      "name": "Proyecto_Cinemática.ipynb",
      "provenance": [],
      "collapsed_sections": [],
      "include_colab_link": true
    },
    "kernelspec": {
      "name": "python3",
      "display_name": "Python 3"
    }
  },
  "cells": [
    {
      "cell_type": "markdown",
      "metadata": {
        "id": "view-in-github",
        "colab_type": "text"
      },
      "source": [
        "<a href=\"https://colab.research.google.com/github/CrysthelAparicio/PythonProjects-SWISE/blob/master/Proyecto_Cinem%C3%A1tica.ipynb\" target=\"_parent\"><img src=\"https://colab.research.google.com/assets/colab-badge.svg\" alt=\"Open In Colab\"/></a>"
      ]
    },
    {
      "cell_type": "markdown",
      "metadata": {
        "id": "4HFshOu6gEp8",
        "colab_type": "text"
      },
      "source": [
        "# **Bienvenido  a nuestra primera entrega del proyecto de Cinemática!**\n",
        "# Integrado por: \n",
        "1. Crysthel Aparicio Bonilla\n",
        "2. Douglas Acosta\n",
        "3. Oscar Alcántara "
      ]
    },
    {
      "cell_type": "markdown",
      "metadata": {
        "id": "85N4a8WmgpAB",
        "colab_type": "text"
      },
      "source": [
        "**Ejercicio #1** "
      ]
    },
    {
      "cell_type": "code",
      "metadata": {
        "id": "8Oi4YJf6gHI-",
        "colab_type": "code",
        "colab": {
          "base_uri": "https://localhost:8080/",
          "height": 173
        },
        "outputId": "d5ac0ead-f2ee-4552-dcb0-5467e2364ef2"
      },
      "source": [
        "import numpy as np \n",
        "import math\n",
        "import matplotlib.pyplot as plt\n",
        "y0 = float(input(\"Ingrese su posición incial : \"))\n",
        "print(y0)\n",
        "\n",
        "v0 = float(input(\"Ingrese su velocidad incial : \"))\n",
        "print(v0)\n",
        "\n",
        "#Posición Final donde caerá el proyectil. \n",
        "y = float(input(\"Ingrese su posición final : \"))\n",
        "print(y)\n",
        "\n",
        "ay = float(input(\"Ingrese su aceleración : \"))\n",
        "print(ay)\n",
        "\n",
        "a = 1\n",
        "b = -2*v0/ay\n",
        "c = 2*(y-y0)/ay\n",
        "\n",
        "#t = (2*v0/ay)\n",
        "d = b**2-4*a*c # discriminante\n",
        "if d < 0:\n",
        "    print (\"Esta ecuación no tiene solución en los reales\")\n",
        "elif d == 0:\n",
        "    t = (-b+math.sqrt(b**2-4*a*c))/2*a\n",
        "    print (\"Esta ecuación tiene una única solución: \", t)\n",
        "else:\n",
        "    t1 = (-b+math.sqrt((b**2)-(4*(a*c))))/(2*a)\n",
        "    t2 = (-b-math.sqrt((b**2)-(4*(a*c))))/(2*a)\n",
        "    if t1 > 0:\n",
        "        print (\"El tiempo total es: \", t1)\n",
        "    elif t2 > 0:\n",
        "        print (\"El tiempo total es: \", t2)\n",
        "    else: \n",
        "        print (\"No existe solución\")\n"
      ],
      "execution_count": null,
      "outputs": [
        {
          "output_type": "stream",
          "text": [
            "Ingrese su posición incial : 10\n",
            "10\n",
            "Ingrese su velocidad incial : 0\n",
            "0\n",
            "Ingrese su posición final : 0\n",
            "0\n",
            "Ingrese su aceleración : 9.8\n",
            "9.8\n",
            "El tiempo total es:  1.4285714285714286\n"
          ],
          "name": "stdout"
        }
      ]
    },
    {
      "cell_type": "markdown",
      "metadata": {
        "id": "8FAS3lL_hFrP",
        "colab_type": "text"
      },
      "source": [
        "**Ejercicio #2**"
      ]
    },
    {
      "cell_type": "code",
      "metadata": {
        "id": "BEcZvxwehLHW",
        "colab_type": "code",
        "colab": {
          "base_uri": "https://localhost:8080/",
          "height": 612
        },
        "outputId": "28648ead-ee57-4135-bbc8-bf847a2141bd"
      },
      "source": [
        "import numpy as np \n",
        "import math\n",
        "\n",
        "def imprimir():\n",
        "    print(\"________________________\")\n",
        "    print(\"__________MENU__________\")\n",
        "    print(\"________________________\")\n",
        "    print()\n",
        "    print(\"Opciones disponibles:\")\n",
        "    print(\"1.Presione 1 si los datos son componenentes en X y en angulo\")\n",
        "    print(\"2.Presione 2 si los datos son componentes en Y y en angulo\")\n",
        "    print(\"3.Presione 3 si conoce la velocidad pero no sus componentes y el angulo\")\n",
        "    print(\"0. Salir\")\n",
        "    print()\n",
        "\n",
        "\n",
        "def menu():\n",
        "    while True:\n",
        "        imprimir()\n",
        "        try:\n",
        "            entrada_usuario = float(input(\"Seleccione una opcion: \"))\n",
        "\n",
        "            if entrada_usuario in range(5):\n",
        "\n",
        "                if entrada_usuario == 0:\n",
        "                    print(\"Adios! Vuelva pronto\")\n",
        "                    break\n",
        "                print()\n",
        "\n",
        "                if entrada_usuario == 1:\n",
        "                  V0x = float(input(\"Ingrese su velocidad Inicial en X : \"))\n",
        "                  print(V0x)\n",
        "                  angulo = int(input(\"Ingrese el angulo: \"))\n",
        "                  print(angulo)\n",
        "                  V0 = V0x/math.cos(angulo)\n",
        "                  V0y = math.sin(angulo)*V0\n",
        "\n",
        "                if entrada_usuario == 2:\n",
        "                  V0y = float(input(\"Ingrese su velocidad Inicial en Y : \"))\n",
        "                  print(V0y)\n",
        "                  angulo = float(input(\"Ingrese el angulo: \"))\n",
        "                  print(angulo)\n",
        "                  V0 = V0x/math.sin(angulo)\n",
        "                  V0x = math.cos(angulo)*V0\n",
        "\n",
        "                if entrada_usuario == 3:\n",
        "                  V0 = float(input(\"Ingrese su velocidad Inicial: \"))\n",
        "                  print(V0)\n",
        "                  angulo = float(input(\"Ingrese el angulo: \"))\n",
        "                  print(angulo)\n",
        "                  V0y = math.sin(angulo)*V0\n",
        "                  V0x = math.cos(angulo)*V0\n",
        "\n",
        "            else:\n",
        "                print('Error, solo de aceptan numeros del 0 al 4')\n",
        "\n",
        "        except ValueError:\n",
        "            print(\"Error, ingrese solamente numeros\")\n",
        "        \n",
        "        ay = float(input(\"Ingrese su aceleración : \"))\n",
        "        print(ay)\n",
        "\n",
        "        t = float(input(\"Ingrese el tiempo : \"))\n",
        "        print(t)\n",
        "\n",
        "        Vx = V0x\n",
        "        Vy = V0y - ay*t\n",
        "        V = math.sqrt((Vx**2)+(Vy**2))\n",
        "\n",
        "        print(\"El porcenjate de la velocidad en x:\", round(Vx/V0x*100, 2))\n",
        "        print(\"El porcenjate de la velocidad en y:\", round(abs(Vy/V0y*100)), 2) #valor absoluto\n",
        "        print(\"El porcenjate de la velocidad total:\", round(V/V0*100, 2))\n",
        "\n",
        "\n",
        "if __name__ == '__main__':\n",
        "    menu()"
      ],
      "execution_count": null,
      "outputs": [
        {
          "output_type": "stream",
          "text": [
            "________________________\n",
            "__________MENU__________\n",
            "________________________\n",
            "\n",
            "Opciones disponibles:\n",
            "1.Presione 1 si los datos son componenentes en X y en angulo\n",
            "2.Presione 2 si los datos son componentes en Y y en angulo\n",
            "3.Presione 3 si conoce la velocidad pero no sus componentes y el angulo\n",
            "0. Salir\n",
            "\n",
            "Seleccione una opcion: 1\n",
            "\n",
            "Ingrese su velocidad Inicial en X : 15\n",
            "15.0\n",
            "Ingrese el angulo: 20\n",
            "20\n",
            "Ingrese su aceleración : 9.8\n",
            "9.8\n",
            "Ingrese el tiempo : 10\n",
            "10.0\n",
            "El porcenjate de la velocidad en x: 100.0\n",
            "El porcenjate de la velocidad en y: 192 2\n",
            "El porcenjate de la velocidad total: 180.01\n",
            "________________________\n",
            "__________MENU__________\n",
            "________________________\n",
            "\n",
            "Opciones disponibles:\n",
            "1.Presione 1 si los datos son componenentes en X y en angulo\n",
            "2.Presione 2 si los datos son componentes en Y y en angulo\n",
            "3.Presione 3 si conoce la velocidad pero no sus componentes y el angulo\n",
            "0. Salir\n",
            "\n",
            "Seleccione una opcion: 0\n",
            "Adios! Vuelva pronto\n"
          ],
          "name": "stdout"
        }
      ]
    },
    {
      "cell_type": "markdown",
      "metadata": {
        "id": "J-R7mY3HhO_J",
        "colab_type": "text"
      },
      "source": [
        "**Ejercicio #3**\n"
      ]
    },
    {
      "cell_type": "code",
      "metadata": {
        "id": "AYQkJdrIhYac",
        "colab_type": "code",
        "colab": {
          "base_uri": "https://localhost:8080/",
          "height": 153
        },
        "outputId": "6455a6cd-5f9c-4565-ac58-c1052e86cc5b"
      },
      "source": [
        "def alturaMax(y0, v0y, ay):\n",
        "    result = y0 + 2*(v0y**2)/ay\n",
        "    return(result)\n",
        "\n",
        "def tiempoMax(v0y, ay):\n",
        "    result = v0y/ay\n",
        "    return(result)\n",
        "\n",
        "y0 = float(input(\"Ingrese su posición incial en y: \"))\n",
        "print(y0)\n",
        "\n",
        "v0y = float(input(\"Ingrese su velocidad incial en y : \"))\n",
        "print(v0y)\n",
        "\n",
        "ay = float(input(\"Ingrese su aceleración : \"))\n",
        "print(ay)\n",
        "\n",
        "print(\"El resultado de la altura máxima es:\", round(alturaMax(y0, v0y, ay)))\n",
        "print(\"El resultado del tiempo máximo es:\", round(tiempoMax(v0y, ay)))"
      ],
      "execution_count": null,
      "outputs": [
        {
          "output_type": "stream",
          "text": [
            "Ingrese su posición incial en y: 0\n",
            "0.0\n",
            "Ingrese su velocidad incial en y : 10\n",
            "10.0\n",
            "Ingrese su aceleración : 9.81\n",
            "9.81\n",
            "El resultado de la altura máxima es: 20\n",
            "El resultado del tiempo máximo es: 1\n"
          ],
          "name": "stdout"
        }
      ]
    },
    {
      "cell_type": "markdown",
      "metadata": {
        "id": "-wmLDfU_hbX2",
        "colab_type": "text"
      },
      "source": [
        "**Ejercicio #4**"
      ]
    },
    {
      "cell_type": "code",
      "metadata": {
        "id": "3vbxuIjehlFl",
        "colab_type": "code",
        "colab": {
          "base_uri": "https://localhost:8080/",
          "height": 204
        },
        "outputId": "e7a196ad-ed64-48a5-e5cf-0862c08f7e83"
      },
      "source": [
        "import numpy as np \n",
        "import math\n",
        "import matplotlib.pyplot as plt\n",
        "\n",
        "px = int(input(\"Ingrese su posición final en x: \"))\n",
        "print(px)\n",
        "\n",
        "py = int(input(\"Ingrese su posición final en y: \"))\n",
        "print(py)\n",
        "\n",
        "w = int(input(\"Ingrese el ancho de la fortaleza: \"))\n",
        "print(w)\n",
        "\n",
        "h = int(input(\"Ingrese la altura de la fortaleza: \"))\n",
        "print(h)\n",
        "\n",
        "ay = float(input(\"Ingrese su aceleración : \"))\n",
        "print(ay)\n",
        "\n",
        "a = 1\n",
        "b = -(px+w)/ay\n",
        "c = (py+ay+h)/ay\n",
        "\n",
        "d = (b)**2-4*a*c # discriminante\n",
        "if d < 0:\n",
        "    print (\"Esta ecuación no tiene solución en los reales\")\n",
        "elif d == 0:\n",
        "    angulo = math.atan((-b/2*a))    \n",
        "    print (\"Esta ecuación tiene una única solución\", round(angulo,2))\n",
        "else:\n",
        "    angulo1 = math.atan((-b+math.sqrt((b**2)-(4*(a*c))))/(2*a))\n",
        "    angulo2 = math.atan((-b-math.sqrt((b**2)-(4*(a*c))))/(2*a))\n",
        "    if angulo1 or angulo2 <= math.pi/2:\n",
        "        print (\"Los angulos totales serían: \", round(angulo1,2), \"y\", round(angulo2,2))\n",
        "        #print (\"El tiempo total es: \", angulo2)\n",
        "    else: \n",
        "        print (\"No existe solución\")"
      ],
      "execution_count": null,
      "outputs": [
        {
          "output_type": "stream",
          "text": [
            "Ingrese su posición final en x: 90\n",
            "90\n",
            "Ingrese su posición final en y: 4\n",
            "4\n",
            "Ingrese el ancho de la fortaleza: 8\n",
            "8\n",
            "Ingrese la altura de la fortaleza: 10\n",
            "10\n",
            "Ingrese su aceleración : 9.81\n",
            "9.81\n",
            "Los angulos totales serían:  1.47 0.24\n"
          ],
          "name": "stdout"
        }
      ]
    },
    {
      "cell_type": "markdown",
      "metadata": {
        "id": "__H8yofShpUl",
        "colab_type": "text"
      },
      "source": [
        "**Ejercicio #5**"
      ]
    },
    {
      "cell_type": "code",
      "metadata": {
        "id": "hGGcufHlhvDC",
        "colab_type": "code",
        "colab": {
          "base_uri": "https://localhost:8080/",
          "height": 278
        },
        "outputId": "037b8902-7159-4ae8-a8a8-1f698aa7e463"
      },
      "source": [
        "import numpy as np \n",
        "import math\n",
        "import matplotlib.pyplot as plt\n",
        "x0 = float(input(\"Ingrese su posición incial en x: \"))\n",
        "print(x0)\n",
        "\n",
        "y0 = float(input(\"Ingrese su posición incial en y: \"))\n",
        "print(y0)\n",
        "\n",
        "v0y = float(input(\"Ingrese su velocidad incial en y: \"))\n",
        "print(v0y)\n",
        "\n",
        "v0x = float(input(\"Ingrese su velocidad incial en x: \"))\n",
        "print(v0x)\n",
        "\n",
        "#velocidad jugador\n",
        "vp = float(input(\"Ingrese la velocidad de la persona: \"))\n",
        "print(vp)\n",
        "\n",
        "#distancia de la persona a la pelota\n",
        "m = float(input(\"Ingrese la distancia de la persona a la pelota: \"))\n",
        "print(m)\n",
        "\n",
        "y = float(0.4)\n",
        "\n",
        "ay = float(input(\"Ingrese su aceleración : \"))\n",
        "print(ay)\n",
        "\n",
        "a = 1\n",
        "b = -2*v0y/ay\n",
        "c = 2*(y-y0)/ay\n",
        "\n",
        "#t = (2*v0/ay)\n",
        "d = b**2-4*a*c # discriminante\n",
        "if d < 0:\n",
        "    print (\"Esta ecuación no tiene solución en los reales\")\n",
        "if d == 0:\n",
        "    t = (-b/2*a)\n",
        "    distanciaPelota = x0+v0x*t\n",
        "    distanciaPersona = distanciaPelota-m\n",
        "    tiempoPersona = distanciaPersona/vp\n",
        "    if t < tiempoPersona: \n",
        "        print(\"La persona llega antes que la pelota a su destino\")\n",
        "    elif t > tiempoPersona: \n",
        "        tiempoCorrido = t-tiempoPersona\n",
        "        distanciaPelotaNew = x0+v0x*tiempoCorrido\n",
        "        print(\"La persona debe empezar a correr, cuando la pelota haya recorrido esta ditancia\",distanciaPelotaNew)\n",
        "    elif t == tiempoPersona:\n",
        "        print(\"La persona llega al mismo tiempo de la pelota si empieza a correr cuando la pelota esta en su posición de salida\")\n",
        "    else: \n",
        "        pass\n",
        "        \n",
        "else:\n",
        "    t1 = (-b+math.sqrt((b**2)-(4*(a*c))))/(2*a)\n",
        "    t2 = (-b-math.sqrt((b**2)-(4*(a*c))))/(2*a)\n",
        "    if t1 > 0:\n",
        "        print (\"El tiempo total es: \", t1)\n",
        "    elif t2 > 0:\n",
        "        print (\"El tiempo total es: \", t2)\n",
        "    else: \n",
        "        print (\"No existe solución\")"
      ],
      "execution_count": null,
      "outputs": [
        {
          "output_type": "stream",
          "text": [
            "Ingrese su posición incial en x: 10\n",
            "10.0\n",
            "Ingrese su posición incial en y: 3\n",
            "3.0\n",
            "Ingrese su velocidad incial en y: 5\n",
            "5.0\n",
            "Ingrese su velocidad incial en x: 2\n",
            "2.0\n",
            "Ingrese la velocidad de la persona: 1\n",
            "1.0\n",
            "Ingrese la distancia de la persona a la pelota: 5\n",
            "5.0\n",
            "Ingrese su aceleración : 2\n",
            "2.0\n",
            "El tiempo total es:  5.474894956128703\n"
          ],
          "name": "stdout"
        }
      ]
    },
    {
      "cell_type": "markdown",
      "metadata": {
        "id": "aN8DTcEhh0rD",
        "colab_type": "text"
      },
      "source": [
        "**Ejercicio #6**"
      ]
    },
    {
      "cell_type": "code",
      "metadata": {
        "id": "etNdwC4fh4UO",
        "colab_type": "code",
        "colab": {
          "base_uri": "https://localhost:8080/",
          "height": 258
        },
        "outputId": "16e4db98-09c9-4e88-b0aa-9f172776bf37"
      },
      "source": [
        "import matplotlib.pyplot as plt\n",
        "import numpy as np\n",
        "import itertools\n",
        "\n",
        "v0y = int(input(\"Ingrese su velocidad incial en y: \"))\n",
        "print(v0y)\n",
        "\n",
        "v0x = int(input(\"Ingrese su velocidad incial en x: \"))\n",
        "print(v0x)\n",
        "\n",
        "p0x = int(input(\"Ingrese la posición inicial en x: \"))\n",
        "print(p0x)\n",
        "\n",
        "p0y = int(input(\"Ingrese la posición inicial en y: \"))\n",
        "print(p0y)\n",
        "\n",
        "ay = float(input(\"Ingrese la aceleración: \"))\n",
        "print(ay)\n",
        "\n",
        "t1 = int(input(\"Ingrese el tiempo: \"))\n",
        "print(t1)\n",
        "\n",
        "#Creación del vector tiempo\n",
        "vt = np.arange(0,t1,0.2)\n",
        "\n",
        "R =  6.4*(10**6)\n",
        "\n",
        "lista_a_rellenar = []\n",
        "\n",
        "for t in vt:\n",
        "    x = p0x + v0x * t\n",
        "    y = p0y + (v0y * t)+(ay/2)*t**2\n",
        "    ay = ay*(R/(y+R))**2\n",
        "    lista_a_rellenar.append(float(round(ay,4)))\n",
        "\n",
        "\n",
        "paresOrdenados = list(itertools.zip_longest(vt, lista_a_rellenar))\n",
        "\n",
        "print(\"Par ordenado de tiempo con respecto a la aceleracion,\",paresOrdenados)\n",
        "\n",
        "#En este programa se ejemplifica en un recorrido con respecto \n",
        "#al tiempo del proyectil, donde obtiene la posición a cierta \n",
        "#aceleración gravitaciónal inicial, \n",
        "#la cual va variando con respecto a la posición que\n",
        "#depende del tiempo; la aceleración no depende directamente \n",
        "#del tiempo sino la posición la cual se modifica con el tiempo \n",
        "#y va influyendo en la gravedad con respecto a los cambios de altura"
      ],
      "execution_count": null,
      "outputs": [
        {
          "output_type": "stream",
          "text": [
            "Ingrese su velocidad incial en y: 10\n",
            "10\n",
            "Ingrese su velocidad incial en x: 12\n",
            "12\n",
            "Ingrese la posición inicial en x: 0\n",
            "0\n",
            "Ingrese la posición inicial en y: 0\n",
            "0\n",
            "Ingrese la aceleración: 9.81\n",
            "9.81\n",
            "Ingrese el tiempo: 20\n",
            "20\n",
            "Par ordenado de tiempo con respecto a la aceleracion, [(0.0, 9.81), (0.2, 9.81), (0.4, 9.81), (0.6000000000000001, 9.81), (0.8, 9.8099), (1.0, 9.8099), (1.2000000000000002, 9.8098), (1.4000000000000001, 9.8097), (1.6, 9.8097), (1.8, 9.8096), (2.0, 9.8094), (2.2, 9.8093), (2.4000000000000004, 9.8091), (2.6, 9.8089), (2.8000000000000003, 9.8087), (3.0, 9.8085), (3.2, 9.8083), (3.4000000000000004, 9.808), (3.6, 9.8077), (3.8000000000000003, 9.8073), (4.0, 9.807), (4.2, 9.8066), (4.4, 9.8062), (4.6000000000000005, 9.8057), (4.800000000000001, 9.8052), (5.0, 9.8047), (5.2, 9.8041), (5.4, 9.8035), (5.6000000000000005, 9.8029), (5.800000000000001, 9.8022), (6.0, 9.8015), (6.2, 9.8007), (6.4, 9.7999), (6.6000000000000005, 9.799), (6.800000000000001, 9.7981), (7.0, 9.7972), (7.2, 9.7962), (7.4, 9.7951), (7.6000000000000005, 9.794), (7.800000000000001, 9.7929), (8.0, 9.7917), (8.200000000000001, 9.7904), (8.4, 9.7891), (8.6, 9.7877), (8.8, 9.7863), (9.0, 9.7848), (9.200000000000001, 9.7833), (9.4, 9.7817), (9.600000000000001, 9.78), (9.8, 9.7783), (10.0, 9.7765), (10.200000000000001, 9.7746), (10.4, 9.7727), (10.600000000000001, 9.7707), (10.8, 9.7686), (11.0, 9.7665), (11.200000000000001, 9.7643), (11.4, 9.762), (11.600000000000001, 9.7596), (11.8, 9.7572), (12.0, 9.7547), (12.200000000000001, 9.7521), (12.4, 9.7494), (12.600000000000001, 9.7467), (12.8, 9.7439), (13.0, 9.741), (13.200000000000001, 9.738), (13.4, 9.7349), (13.600000000000001, 9.7318), (13.8, 9.7285), (14.0, 9.7252), (14.200000000000001, 9.7218), (14.4, 9.7183), (14.600000000000001, 9.7147), (14.8, 9.711), (15.0, 9.7073), (15.200000000000001, 9.7034), (15.4, 9.6994), (15.600000000000001, 9.6954), (15.8, 9.6912), (16.0, 9.687), (16.2, 9.6827), (16.400000000000002, 9.6782), (16.6, 9.6737), (16.8, 9.6691), (17.0, 9.6643), (17.2, 9.6595), (17.400000000000002, 9.6546), (17.6, 9.6495), (17.8, 9.6444), (18.0, 9.6391), (18.2, 9.6338), (18.400000000000002, 9.6283), (18.6, 9.6227), (18.8, 9.6171), (19.0, 9.6113), (19.200000000000003, 9.6054), (19.400000000000002, 9.5994), (19.6, 9.5933), (19.8, 9.587)]\n"
          ],
          "name": "stdout"
        }
      ]
    },
    {
      "cell_type": "markdown",
      "metadata": {
        "id": "Mu4P3pLdiTdp",
        "colab_type": "text"
      },
      "source": [
        "**Ejercicio #7**"
      ]
    },
    {
      "cell_type": "code",
      "metadata": {
        "id": "aPdInF9EiYWk",
        "colab_type": "code",
        "colab": {
          "base_uri": "https://localhost:8080/",
          "height": 243
        },
        "outputId": "67fe2e79-561e-42a3-d18b-ce542bc92560"
      },
      "source": [
        "# Primera Forma \n",
        "import matplotlib.pyplot as plt\n",
        "import numpy as np\n",
        "import math\n",
        "\n",
        "p0x = float(input(\"Ingrese la posición inicial en x: \"))\n",
        "print(p0x)\n",
        "\n",
        "p0y = float(input(\"Ingrese la posición inicial en y: \"))\n",
        "print(p0y)\n",
        "\n",
        "pfy = float(input(\"Ingrese la posición final en y: \"))\n",
        "print(pfy)\n",
        "\n",
        "pfx = float(input(\"Ingrese la posición final en x: \"))\n",
        "print(pfx)\n",
        "\n",
        "ay = float(input(\"Ingrese la aceleración: \"))\n",
        "print(ay)\n",
        "\n",
        "t = float(input(\"Ingrese el tiempo: \"))\n",
        "print(t)\n",
        "\n",
        "\n",
        "v0x = (pfx - p0x)/t\n",
        "v0y = (pfy - (ay*t**2)/2)/t\n",
        "v0 = math.sqrt(v0x**2 + v0y**2)\n",
        "angulo = math.atan(v0y/v0x)\n",
        "\n",
        "print(\"Las componentes de la velocidad son las siguientes: \", round(v0x,2) , \"y\", round(v0y,2))\n"
      ],
      "execution_count": 5,
      "outputs": [
        {
          "output_type": "stream",
          "text": [
            "Ingrese la posición inicial en x: 30\n",
            "30.0\n",
            "Ingrese la posición inicial en y: 0\n",
            "0.0\n",
            "Ingrese la posición final en y: 10\n",
            "10.0\n",
            "Ingrese la posición final en x: 5\n",
            "5.0\n",
            "Ingrese la aceleración: 9.8\n",
            "9.8\n",
            "Ingrese el tiempo: 20\n",
            "20.0\n",
            "Las componentes de la velocidad son las siguientes:  -1.25 y -97.5\n"
          ],
          "name": "stdout"
        }
      ]
    },
    {
      "cell_type": "code",
      "metadata": {
        "id": "dxApxxobxXD5",
        "colab_type": "code",
        "colab": {
          "base_uri": "https://localhost:8080/",
          "height": 243
        },
        "outputId": "13262dd8-0493-441d-cb8d-c26f76faa62c"
      },
      "source": [
        "#Forma 2 del Ejercicio 7\n",
        "import matplotlib.pyplot as plt\n",
        "import numpy as np\n",
        "import math\n",
        "\n",
        "p0x = float(input(\"Ingrese la posición inicial en x: \"))\n",
        "print(p0x)\n",
        "\n",
        "p0y = float(input(\"Ingrese la posición inicial en y: \"))\n",
        "print(p0y)\n",
        "\n",
        "pfy = float(input(\"Ingrese la posición final en y: \"))\n",
        "print(pfy)\n",
        "\n",
        "pfx = float(input(\"Ingrese la posición final en x: \"))\n",
        "print(pfx)\n",
        "\n",
        "ay = float(input(\"Ingrese la aceleración: \"))\n",
        "print(ay)\n",
        "\n",
        "angulo = float(input(\"Ingrese el angulo: \"))\n",
        "print(angulo)\n",
        "\n",
        "a = (1/2*ay*(pfx-p0x)**2)\n",
        "b = (pfx-p0x)*math.tan(angulo)-(pfy-p0y)\n",
        "c = (math.cos(angulo)**2)\n",
        "\n",
        "if b < 0:\n",
        "    print (\"Esta ecuación no tiene solución en los reales\")\n",
        "elif b > 0:\n",
        "    v0 = math.sqrt((a/b)*c)\n",
        "    print(\"La magnítud de la velocidad es la siguiente: \",round(v0,2))\n",
        "    "
      ],
      "execution_count": 7,
      "outputs": [
        {
          "output_type": "stream",
          "text": [
            "Ingrese la posición inicial en x: 10\n",
            "10.0\n",
            "Ingrese la posición inicial en y: 0\n",
            "0.0\n",
            "Ingrese la posición final en y: 0\n",
            "0.0\n",
            "Ingrese la posición final en x: 40\n",
            "40.0\n",
            "Ingrese la aceleración: 9.8\n",
            "9.8\n",
            "Ingrese el angulo: 5\n",
            "5.0\n",
            "Esta ecuación no tiene solución en los reales\n"
          ],
          "name": "stdout"
        }
      ]
    },
    {
      "cell_type": "markdown",
      "metadata": {
        "id": "48Re0Xn3ibhm",
        "colab_type": "text"
      },
      "source": [
        "# Llego el momento de los challenge's "
      ]
    },
    {
      "cell_type": "markdown",
      "metadata": {
        "id": "aFdZ8qy5ivR7",
        "colab_type": "text"
      },
      "source": [
        "**CHALLENGE #1**"
      ]
    },
    {
      "cell_type": "code",
      "metadata": {
        "id": "A-rNrn71iuaq",
        "colab_type": "code",
        "colab": {}
      },
      "source": [
        ""
      ],
      "execution_count": null,
      "outputs": []
    },
    {
      "cell_type": "markdown",
      "metadata": {
        "id": "2NADEmkAkPjV",
        "colab_type": "text"
      },
      "source": [
        "**CHALLENGE #2**"
      ]
    },
    {
      "cell_type": "code",
      "metadata": {
        "id": "4v7w3vJVkUQL",
        "colab_type": "code",
        "colab": {
          "base_uri": "https://localhost:8080/",
          "height": 289
        },
        "outputId": "800940be-7cad-4532-fcd7-6246c6a69599"
      },
      "source": [
        "import numpy as np \n",
        "import math\n",
        "import matplotlib.pyplot as plt\n",
        "from scipy.stats import truncnorm\n",
        "import random\n",
        "\n",
        "p0y = 0\n",
        "\n",
        "p0x = 0\n",
        "\n",
        "v0y = float(input(\"Ingrese la velocidad inicial en y del cohete: \"))\n",
        "print(v0y)\n",
        "\n",
        "v0x = float(input(\"Ingrese la velocidad inicial en x del cohete: \"))\n",
        "print(v0x)\n",
        "\n",
        "ay = float(input(\"Ingrese su aceleración: \"))\n",
        "print(ay)\n",
        "\n",
        "t = float(input(\"Ingrese el tiempo de vuelo del cohete: \"))\n",
        "print(t)\n",
        "\n",
        "n = int(input(\"Ingrese la cantidad de cohetes que van a salir: \"))\n",
        "print(n)\n",
        "\n",
        "m = -1\n",
        "posicion_en_y=[]\n",
        "posicion_en_x=[]\n",
        "\n",
        "while m < n:\n",
        "  y = p0y + v0y*t - (1/2)*ay*(t**2)\n",
        "  x = p0x + v0x*t\n",
        "  m = 1 + m\n",
        "  posicion_en_y.append(y)\n",
        "  posicion_en_x.append(x)\n",
        "  p0y=y\n",
        "  p0x=x\n",
        "  vx=v0x\n",
        "  vy=v0y+ay\n",
        "  v0y=vy\n",
        "  t= t + random.uniform(0,9)\n",
        "  print(t)\n",
        "\n",
        "print(\"La posicion final en x del ultimo cohete es \",round(posicion_en_x[n],2), \"metros\")\n",
        "print(\"La posicion final en y del ultimo cohete es \",round(posicion_en_y[n],2), \"metros\")"
      ],
      "execution_count": null,
      "outputs": [
        {
          "output_type": "stream",
          "text": [
            "Ingrese la velocidad inicial en y del cohete: 10\n",
            "10.0\n",
            "Ingrese la velocidad inicial en x del cohete: 12\n",
            "12.0\n",
            "Ingrese su aceleración: 9.81\n",
            "9.81\n",
            "Ingrese el tiempo de vuelo del cohete: 30\n",
            "30.0\n",
            "Ingrese la cantidad de cohetes que van a salir: 3\n",
            "3\n",
            "38.55926982400929\n",
            "44.21835822831663\n",
            "45.88541498318907\n",
            "46.88671630473406\n",
            "La posicion final en x del ultimo cohete es  1903.96 metros\n",
            "La posicion final en y del ultimo cohete es  -27442.37 metros\n"
          ],
          "name": "stdout"
        }
      ]
    },
    {
      "cell_type": "markdown",
      "metadata": {
        "id": "hYgVfU1-kXRE",
        "colab_type": "text"
      },
      "source": [
        "**CHALLENGE #3**"
      ]
    },
    {
      "cell_type": "code",
      "metadata": {
        "id": "l1KnbPA2kbJq",
        "colab_type": "code",
        "colab": {
          "base_uri": "https://localhost:8080/",
          "height": 272
        },
        "outputId": "bb32d092-1ca7-42d9-ed1a-e12891eccbbd"
      },
      "source": [
        "#CHALLENGE 3\n",
        "import numpy as np \n",
        "import math\n",
        "import random\n",
        "\n",
        "\n",
        "#DATOS PROYECTIL #1\n",
        "p_inicial_1_x = float(input(\"Ingrese la posicion inicial en x del primer cohete: \"))\n",
        "print(p_inicial_1_x)\n",
        "\n",
        "p_inicial_y_fija = 0;\n",
        "\n",
        "v_inicial_1 = float(input(\"Ingrese la magnitud de la velocidad del primer cohete: \"))\n",
        "print(v_inicial_1)\n",
        "\n",
        "angulo_proyectil_1 = float(input(\"Ingrese el angulo inicial del primer cohete: \"))\n",
        "print(angulo_proyectil_1)\n",
        "\n",
        "ay = float(input(\"Ingrese su aceleración: \"))\n",
        "print(ay)\n",
        "\n",
        "#DATOS PROYECTIL #2\n",
        "v_inicial_2 = float(input(\"Ingrese la magnitud de la velocidad del segundo cohete: \"))\n",
        "print(v_inicial_2)\n",
        "\n",
        "angulo_proyectil_2 = float(input(\"Ingrese el angulo inicial del segundo cohete: \"))\n",
        "print(angulo_proyectil_2)\n",
        "\n",
        "#EXISTENCIA DE UN TIEMPO DE VUELO EN QUE AMBOS CHOQUEN\n",
        "\n",
        "#INFORMACION PARA INICIAR EL CONDICIONAL\n",
        "p_final_1_x = 1\n",
        "p_final_1_y = 0\n",
        "p_final_2_x = 1\n",
        "p_final_2_y = 0\n",
        "\n",
        "while p_final_1_x == p_final_2_x and p_final_1_y == p_final_2_y:\n",
        "  #t=random.uniform(0,120)\n",
        "  t=random.random()\n",
        "  p_final_1_x = (p_inicial_1_x) + ((v_inicial_1)*math.cos(angulo_proyectil_1))*t\n",
        "  p_final_1_y = (p_inicial_y_fija) + ((v_inicial_1)*math.sin(angulo_proyectil_1))*t + (1/2)*ay*(t)\n",
        "  p_final_2_x = (p_inicial_1_x) + ((v_inicial_2)*math.cos(angulo_proyectil_2))*t\n",
        "  p_final_2_y = (p_inicial_y_fija) + ((v_inicial_2)*math.sin(angulo_proyectil_2))*t + (1/2)*ay*(t)\n",
        "\n",
        "print(\"La coordenada final en x, donde se cumple el choque para el proyectil 2 es,\",round(p_final_2_x,2))\n",
        "print(\"La coordenada final en y, donde se cumple el choque para el proyectil 2 es,\",round(p_final_2_y,2))\n",
        "print(\"El tiempo donde se da la colision es,\",round(t,2))"
      ],
      "execution_count": null,
      "outputs": [
        {
          "output_type": "stream",
          "text": [
            "Ingrese la posicion inicial en x del primer cohete: 0\n",
            "0.0\n",
            "Ingrese la magnitud de la velocidad del primer cohete: 120\n",
            "120.0\n",
            "Ingrese el angulo inicial del primer cohete: 40\n",
            "40.0\n",
            "Ingrese su aceleración: 9.81\n",
            "9.81\n",
            "Ingrese la magnitud de la velocidad del segundo cohete: 30\n",
            "30.0\n",
            "Ingrese el angulo inicial del segundo cohete: 14\n",
            "14.0\n",
            "La coordenada final en x, donde se cumple el choque para el proyectil 2 es, 0.82\n",
            "La coordenada final en y, donde se cumple el choque para el proyectil 2 es, 6.91\n",
            "El tiempo donde se da la colision es, 0.2\n"
          ],
          "name": "stdout"
        }
      ]
    }
  ]
}