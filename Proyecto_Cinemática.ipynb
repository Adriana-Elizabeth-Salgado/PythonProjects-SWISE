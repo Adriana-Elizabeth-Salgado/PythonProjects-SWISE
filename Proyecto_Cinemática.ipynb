{
  "nbformat": 4,
  "nbformat_minor": 0,
  "metadata": {
    "colab": {
      "name": "Proyecto_Cinemática.ipynb",
      "provenance": [],
      "collapsed_sections": [],
      "include_colab_link": true
    },
    "kernelspec": {
      "name": "python3",
      "display_name": "Python 3"
    }
  },
  "cells": [
    {
      "cell_type": "markdown",
      "metadata": {
        "id": "view-in-github",
        "colab_type": "text"
      },
      "source": [
        "<a href=\"https://colab.research.google.com/github/CrysthelAparicio/PythonProjects-SWISE/blob/master/Proyecto_Cinem%C3%A1tica.ipynb\" target=\"_parent\"><img src=\"https://colab.research.google.com/assets/colab-badge.svg\" alt=\"Open In Colab\"/></a>"
      ]
    },
    {
      "cell_type": "markdown",
      "metadata": {
        "id": "4HFshOu6gEp8",
        "colab_type": "text"
      },
      "source": [
        "# **Bienvenido  a nuestra primera entrega del proyecto de Cinemática!**\n",
        "# Integrado por: \n",
        "1. Crysthel Aparicio Bonilla\n",
        "2. Douglas Acosta\n",
        "3. Oscar Alcántara "
      ]
    },
    {
      "cell_type": "markdown",
      "metadata": {
        "id": "85N4a8WmgpAB",
        "colab_type": "text"
      },
      "source": [
        "**Ejercicio #1** "
      ]
    },
    {
      "cell_type": "code",
      "metadata": {
        "id": "8Oi4YJf6gHI-",
        "colab_type": "code",
        "colab": {
          "base_uri": "https://localhost:8080/",
          "height": 173
        },
        "outputId": "d5ac0ead-f2ee-4552-dcb0-5467e2364ef2"
      },
      "source": [
        "import numpy as np \n",
        "import math\n",
        "import matplotlib.pyplot as plt\n",
        "y0 = float(input(\"Ingrese su posición incial : \"))\n",
        "print(y0)\n",
        "\n",
        "v0 = float(input(\"Ingrese su velocidad incial : \"))\n",
        "print(v0)\n",
        "\n",
        "#Posición Final donde caerá el proyectil. \n",
        "y = float(input(\"Ingrese su posición final : \"))\n",
        "print(y)\n",
        "\n",
        "ay = float(input(\"Ingrese su aceleración : \"))\n",
        "print(ay)\n",
        "\n",
        "a = 1\n",
        "b = -2*v0/ay\n",
        "c = 2*(y-y0)/ay\n",
        "\n",
        "#t = (2*v0/ay)\n",
        "d = b**2-4*a*c # discriminante\n",
        "if d < 0:\n",
        "    print (\"Esta ecuación no tiene solución en los reales\")\n",
        "elif d == 0:\n",
        "    t = (-b+math.sqrt(b**2-4*a*c))/2*a\n",
        "    print (\"Esta ecuación tiene una única solución: \", t)\n",
        "else:\n",
        "    t1 = (-b+math.sqrt((b**2)-(4*(a*c))))/(2*a)\n",
        "    t2 = (-b-math.sqrt((b**2)-(4*(a*c))))/(2*a)\n",
        "    if t1 > 0:\n",
        "        print (\"El tiempo total es: \", t1)\n",
        "    elif t2 > 0:\n",
        "        print (\"El tiempo total es: \", t2)\n",
        "    else: \n",
        "        print (\"No existe solución\")\n"
      ],
      "execution_count": null,
      "outputs": [
        {
          "output_type": "stream",
          "text": [
            "Ingrese su posición incial : 10\n",
            "10\n",
            "Ingrese su velocidad incial : 0\n",
            "0\n",
            "Ingrese su posición final : 0\n",
            "0\n",
            "Ingrese su aceleración : 9.8\n",
            "9.8\n",
            "El tiempo total es:  1.4285714285714286\n"
          ],
          "name": "stdout"
        }
      ]
    },
    {
      "cell_type": "markdown",
      "metadata": {
        "id": "8FAS3lL_hFrP",
        "colab_type": "text"
      },
      "source": [
        "**Ejercicio #2**"
      ]
    },
    {
      "cell_type": "code",
      "metadata": {
        "id": "BEcZvxwehLHW",
        "colab_type": "code",
        "colab": {
          "base_uri": "https://localhost:8080/",
          "height": 612
        },
        "outputId": "28648ead-ee57-4135-bbc8-bf847a2141bd"
      },
      "source": [
        "import numpy as np \n",
        "import math\n",
        "\n",
        "def imprimir():\n",
        "    print(\"________________________\")\n",
        "    print(\"__________MENU__________\")\n",
        "    print(\"________________________\")\n",
        "    print()\n",
        "    print(\"Opciones disponibles:\")\n",
        "    print(\"1.Presione 1 si los datos son componenentes en X y en angulo\")\n",
        "    print(\"2.Presione 2 si los datos son componentes en Y y en angulo\")\n",
        "    print(\"3.Presione 3 si conoce la velocidad pero no sus componentes y el angulo\")\n",
        "    print(\"0. Salir\")\n",
        "    print()\n",
        "\n",
        "\n",
        "def menu():\n",
        "    while True:\n",
        "        imprimir()\n",
        "        try:\n",
        "            entrada_usuario = float(input(\"Seleccione una opcion: \"))\n",
        "\n",
        "            if entrada_usuario in range(5):\n",
        "\n",
        "                if entrada_usuario == 0:\n",
        "                    print(\"Adios! Vuelva pronto\")\n",
        "                    break\n",
        "                print()\n",
        "\n",
        "                if entrada_usuario == 1:\n",
        "                  V0x = float(input(\"Ingrese su velocidad Inicial en X : \"))\n",
        "                  print(V0x)\n",
        "                  angulo = int(input(\"Ingrese el angulo: \"))\n",
        "                  print(angulo)\n",
        "                  V0 = V0x/math.cos(angulo)\n",
        "                  V0y = math.sin(angulo)*V0\n",
        "\n",
        "                if entrada_usuario == 2:\n",
        "                  V0y = float(input(\"Ingrese su velocidad Inicial en Y : \"))\n",
        "                  print(V0y)\n",
        "                  angulo = float(input(\"Ingrese el angulo: \"))\n",
        "                  print(angulo)\n",
        "                  V0 = V0x/math.sin(angulo)\n",
        "                  V0x = math.cos(angulo)*V0\n",
        "\n",
        "                if entrada_usuario == 3:\n",
        "                  V0 = float(input(\"Ingrese su velocidad Inicial: \"))\n",
        "                  print(V0)\n",
        "                  angulo = float(input(\"Ingrese el angulo: \"))\n",
        "                  print(angulo)\n",
        "                  V0y = math.sin(angulo)*V0\n",
        "                  V0x = math.cos(angulo)*V0\n",
        "\n",
        "            else:\n",
        "                print('Error, solo de aceptan numeros del 0 al 4')\n",
        "\n",
        "        except ValueError:\n",
        "            print(\"Error, ingrese solamente numeros\")\n",
        "        \n",
        "        ay = float(input(\"Ingrese su aceleración : \"))\n",
        "        print(ay)\n",
        "\n",
        "        t = float(input(\"Ingrese el tiempo : \"))\n",
        "        print(t)\n",
        "\n",
        "        Vx = V0x\n",
        "        Vy = V0y - ay*t\n",
        "        V = math.sqrt((Vx**2)+(Vy**2))\n",
        "\n",
        "        print(\"El porcenjate de la velocidad en x:\", round(Vx/V0x*100, 2))\n",
        "        print(\"El porcenjate de la velocidad en y:\", round(abs(Vy/V0y*100)), 2) #valor absoluto\n",
        "        print(\"El porcenjate de la velocidad total:\", round(V/V0*100, 2))\n",
        "\n",
        "\n",
        "if __name__ == '__main__':\n",
        "    menu()"
      ],
      "execution_count": null,
      "outputs": [
        {
          "output_type": "stream",
          "text": [
            "________________________\n",
            "__________MENU__________\n",
            "________________________\n",
            "\n",
            "Opciones disponibles:\n",
            "1.Presione 1 si los datos son componenentes en X y en angulo\n",
            "2.Presione 2 si los datos son componentes en Y y en angulo\n",
            "3.Presione 3 si conoce la velocidad pero no sus componentes y el angulo\n",
            "0. Salir\n",
            "\n",
            "Seleccione una opcion: 1\n",
            "\n",
            "Ingrese su velocidad Inicial en X : 15\n",
            "15.0\n",
            "Ingrese el angulo: 20\n",
            "20\n",
            "Ingrese su aceleración : 9.8\n",
            "9.8\n",
            "Ingrese el tiempo : 10\n",
            "10.0\n",
            "El porcenjate de la velocidad en x: 100.0\n",
            "El porcenjate de la velocidad en y: 192 2\n",
            "El porcenjate de la velocidad total: 180.01\n",
            "________________________\n",
            "__________MENU__________\n",
            "________________________\n",
            "\n",
            "Opciones disponibles:\n",
            "1.Presione 1 si los datos son componenentes en X y en angulo\n",
            "2.Presione 2 si los datos son componentes en Y y en angulo\n",
            "3.Presione 3 si conoce la velocidad pero no sus componentes y el angulo\n",
            "0. Salir\n",
            "\n",
            "Seleccione una opcion: 0\n",
            "Adios! Vuelva pronto\n"
          ],
          "name": "stdout"
        }
      ]
    },
    {
      "cell_type": "markdown",
      "metadata": {
        "id": "J-R7mY3HhO_J",
        "colab_type": "text"
      },
      "source": [
        "**Ejercicio #3**\n"
      ]
    },
    {
      "cell_type": "code",
      "metadata": {
        "id": "AYQkJdrIhYac",
        "colab_type": "code",
        "colab": {
          "base_uri": "https://localhost:8080/",
          "height": 153
        },
        "outputId": "6455a6cd-5f9c-4565-ac58-c1052e86cc5b"
      },
      "source": [
        "def alturaMax(y0, v0y, ay):\n",
        "    result = y0 + 2*(v0y**2)/ay\n",
        "    return(result)\n",
        "\n",
        "def tiempoMax(v0y, ay):\n",
        "    result = v0y/ay\n",
        "    return(result)\n",
        "\n",
        "y0 = float(input(\"Ingrese su posición incial en y: \"))\n",
        "print(y0)\n",
        "\n",
        "v0y = float(input(\"Ingrese su velocidad incial en y : \"))\n",
        "print(v0y)\n",
        "\n",
        "ay = float(input(\"Ingrese su aceleración : \"))\n",
        "print(ay)\n",
        "\n",
        "print(\"El resultado de la altura máxima es:\", round(alturaMax(y0, v0y, ay)))\n",
        "print(\"El resultado del tiempo máximo es:\", round(tiempoMax(v0y, ay)))"
      ],
      "execution_count": 6,
      "outputs": [
        {
          "output_type": "stream",
          "text": [
            "Ingrese su posición incial en y: 0\n",
            "0.0\n",
            "Ingrese su velocidad incial en y : 10\n",
            "10.0\n",
            "Ingrese su aceleración : 9.81\n",
            "9.81\n",
            "El resultado de la altura máxima es: 20\n",
            "El resultado del tiempo máximo es: 1\n"
          ],
          "name": "stdout"
        }
      ]
    },
    {
      "cell_type": "markdown",
      "metadata": {
        "id": "-wmLDfU_hbX2",
        "colab_type": "text"
      },
      "source": [
        "**Ejercicio #4**"
      ]
    },
    {
      "cell_type": "code",
      "metadata": {
        "id": "3vbxuIjehlFl",
        "colab_type": "code",
        "colab": {
          "base_uri": "https://localhost:8080/",
          "height": 204
        },
        "outputId": "e7a196ad-ed64-48a5-e5cf-0862c08f7e83"
      },
      "source": [
        "import numpy as np \n",
        "import math\n",
        "import matplotlib.pyplot as plt\n",
        "\n",
        "px = int(input(\"Ingrese su posición final en x: \"))\n",
        "print(px)\n",
        "\n",
        "py = int(input(\"Ingrese su posición final en y: \"))\n",
        "print(py)\n",
        "\n",
        "w = int(input(\"Ingrese el ancho de la fortaleza: \"))\n",
        "print(w)\n",
        "\n",
        "h = int(input(\"Ingrese la altura de la fortaleza: \"))\n",
        "print(h)\n",
        "\n",
        "ay = float(input(\"Ingrese su aceleración : \"))\n",
        "print(ay)\n",
        "\n",
        "a = 1\n",
        "b = -(px+w)/ay\n",
        "c = (py+ay+h)/ay\n",
        "\n",
        "d = (b)**2-4*a*c # discriminante\n",
        "if d < 0:\n",
        "    print (\"Esta ecuación no tiene solución en los reales\")\n",
        "elif d == 0:\n",
        "    angulo = math.atan((-b/2*a))    \n",
        "    print (\"Esta ecuación tiene una única solución\", round(angulo,2))\n",
        "else:\n",
        "    angulo1 = math.atan((-b+math.sqrt((b**2)-(4*(a*c))))/(2*a))\n",
        "    angulo2 = math.atan((-b-math.sqrt((b**2)-(4*(a*c))))/(2*a))\n",
        "    if angulo1 or angulo2 <= math.pi/2:\n",
        "        print (\"Los angulos totales serían: \", round(angulo1,2), \"y\", round(angulo2,2))\n",
        "        #print (\"El tiempo total es: \", angulo2)\n",
        "    else: \n",
        "        print (\"No existe solución\")"
      ],
      "execution_count": null,
      "outputs": [
        {
          "output_type": "stream",
          "text": [
            "Ingrese su posición final en x: 90\n",
            "90\n",
            "Ingrese su posición final en y: 4\n",
            "4\n",
            "Ingrese el ancho de la fortaleza: 8\n",
            "8\n",
            "Ingrese la altura de la fortaleza: 10\n",
            "10\n",
            "Ingrese su aceleración : 9.81\n",
            "9.81\n",
            "Los angulos totales serían:  1.47 0.24\n"
          ],
          "name": "stdout"
        }
      ]
    },
    {
      "cell_type": "markdown",
      "metadata": {
        "id": "__H8yofShpUl",
        "colab_type": "text"
      },
      "source": [
        "**Ejercicio #5**"
      ]
    },
    {
      "cell_type": "code",
      "metadata": {
        "id": "hGGcufHlhvDC",
        "colab_type": "code",
        "colab": {
          "base_uri": "https://localhost:8080/",
          "height": 278
        },
        "outputId": "037b8902-7159-4ae8-a8a8-1f698aa7e463"
      },
      "source": [
        "import numpy as np \n",
        "import math\n",
        "import matplotlib.pyplot as plt\n",
        "x0 = float(input(\"Ingrese su posición incial en x: \"))\n",
        "print(x0)\n",
        "\n",
        "y0 = float(input(\"Ingrese su posición incial en y: \"))\n",
        "print(y0)\n",
        "\n",
        "v0y = float(input(\"Ingrese su velocidad incial en y: \"))\n",
        "print(v0y)\n",
        "\n",
        "v0x = float(input(\"Ingrese su velocidad incial en x: \"))\n",
        "print(v0x)\n",
        "\n",
        "#velocidad jugador\n",
        "vp = float(input(\"Ingrese la velocidad de la persona: \"))\n",
        "print(vp)\n",
        "\n",
        "#distancia de la persona a la pelota\n",
        "m = float(input(\"Ingrese la distancia de la persona a la pelota: \"))\n",
        "print(m)\n",
        "\n",
        "y = float(0.4)\n",
        "\n",
        "ay = float(input(\"Ingrese su aceleración : \"))\n",
        "print(ay)\n",
        "\n",
        "a = 1\n",
        "b = -2*v0y/ay\n",
        "c = 2*(y-y0)/ay\n",
        "\n",
        "#t = (2*v0/ay)\n",
        "d = b**2-4*a*c # discriminante\n",
        "if d < 0:\n",
        "    print (\"Esta ecuación no tiene solución en los reales\")\n",
        "if d == 0:\n",
        "    t = (-b/2*a)\n",
        "    distanciaPelota = x0+v0x*t\n",
        "    distanciaPersona = distanciaPelota-m\n",
        "    tiempoPersona = distanciaPersona/vp\n",
        "    if t < tiempoPersona: \n",
        "        print(\"La persona llega antes que la pelota a su destino\")\n",
        "    elif t > tiempoPersona: \n",
        "        tiempoCorrido = t-tiempoPersona\n",
        "        distanciaPelotaNew = x0+v0x*tiempoCorrido\n",
        "        print(\"La persona debe empezar a correr, cuando la pelota haya recorrido esta ditancia\",distanciaPelotaNew)\n",
        "    elif t == tiempoPersona:\n",
        "        print(\"La persona llega al mismo tiempo de la pelota si empieza a correr cuando la pelota esta en su posición de salida\")\n",
        "    else: \n",
        "        pass\n",
        "        \n",
        "else:\n",
        "    t1 = (-b+math.sqrt((b**2)-(4*(a*c))))/(2*a)\n",
        "    t2 = (-b-math.sqrt((b**2)-(4*(a*c))))/(2*a)\n",
        "    if t1 > 0:\n",
        "        print (\"El tiempo total es: \", t1)\n",
        "    elif t2 > 0:\n",
        "        print (\"El tiempo total es: \", t2)\n",
        "    else: \n",
        "        print (\"No existe solución\")"
      ],
      "execution_count": null,
      "outputs": [
        {
          "output_type": "stream",
          "text": [
            "Ingrese su posición incial en x: 10\n",
            "10.0\n",
            "Ingrese su posición incial en y: 3\n",
            "3.0\n",
            "Ingrese su velocidad incial en y: 5\n",
            "5.0\n",
            "Ingrese su velocidad incial en x: 2\n",
            "2.0\n",
            "Ingrese la velocidad de la persona: 1\n",
            "1.0\n",
            "Ingrese la distancia de la persona a la pelota: 5\n",
            "5.0\n",
            "Ingrese su aceleración : 2\n",
            "2.0\n",
            "El tiempo total es:  5.474894956128703\n"
          ],
          "name": "stdout"
        }
      ]
    },
    {
      "cell_type": "markdown",
      "metadata": {
        "id": "aN8DTcEhh0rD",
        "colab_type": "text"
      },
      "source": [
        "**Ejercicio #6**"
      ]
    },
    {
      "cell_type": "code",
      "metadata": {
        "id": "etNdwC4fh4UO",
        "colab_type": "code",
        "colab": {}
      },
      "source": [
        ""
      ],
      "execution_count": null,
      "outputs": []
    },
    {
      "cell_type": "markdown",
      "metadata": {
        "id": "Mu4P3pLdiTdp",
        "colab_type": "text"
      },
      "source": [
        "**Ejercicio #7**"
      ]
    },
    {
      "cell_type": "code",
      "metadata": {
        "id": "aPdInF9EiYWk",
        "colab_type": "code",
        "colab": {}
      },
      "source": [
        ""
      ],
      "execution_count": null,
      "outputs": []
    },
    {
      "cell_type": "markdown",
      "metadata": {
        "id": "48Re0Xn3ibhm",
        "colab_type": "text"
      },
      "source": [
        "# Llego el momento de los challenge's "
      ]
    },
    {
      "cell_type": "markdown",
      "metadata": {
        "id": "aFdZ8qy5ivR7",
        "colab_type": "text"
      },
      "source": [
        "**CHALLENGE #1**"
      ]
    },
    {
      "cell_type": "code",
      "metadata": {
        "id": "A-rNrn71iuaq",
        "colab_type": "code",
        "colab": {}
      },
      "source": [
        ""
      ],
      "execution_count": null,
      "outputs": []
    },
    {
      "cell_type": "markdown",
      "metadata": {
        "id": "2NADEmkAkPjV",
        "colab_type": "text"
      },
      "source": [
        "**CHALLENGE #2**"
      ]
    },
    {
      "cell_type": "code",
      "metadata": {
        "id": "4v7w3vJVkUQL",
        "colab_type": "code",
        "colab": {}
      },
      "source": [
        ""
      ],
      "execution_count": null,
      "outputs": []
    },
    {
      "cell_type": "markdown",
      "metadata": {
        "id": "hYgVfU1-kXRE",
        "colab_type": "text"
      },
      "source": [
        "**CHALLENGE #3**"
      ]
    },
    {
      "cell_type": "code",
      "metadata": {
        "id": "l1KnbPA2kbJq",
        "colab_type": "code",
        "colab": {}
      },
      "source": [
        ""
      ],
      "execution_count": null,
      "outputs": []
    }
  ]
}