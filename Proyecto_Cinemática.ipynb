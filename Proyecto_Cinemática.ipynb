{
  "nbformat": 4,
  "nbformat_minor": 0,
  "metadata": {
    "colab": {
      "name": "Proyecto_Cinemática.ipynb",
      "provenance": [],
      "include_colab_link": true
    },
    "kernelspec": {
      "name": "python3",
      "display_name": "Python 3"
    }
  },
  "cells": [
    {
      "cell_type": "markdown",
      "metadata": {
        "id": "view-in-github",
        "colab_type": "text"
      },
      "source": [
        "<a href=\"https://colab.research.google.com/github/CrysthelAparicio/PythonProjects-SWISE/blob/master/Proyecto_Cinem%C3%A1tica.ipynb\" target=\"_parent\"><img src=\"https://colab.research.google.com/assets/colab-badge.svg\" alt=\"Open In Colab\"/></a>"
      ]
    },
    {
      "cell_type": "markdown",
      "metadata": {
        "id": "4HFshOu6gEp8",
        "colab_type": "text"
      },
      "source": [
        "# **Bienvenido  a nuestra primera entrega del proyecto de Cinemática!**\n",
        "# Integrado por: \n",
        "1. Crysthel Aparicio Bonilla\n",
        "2. Douglas Acosta\n",
        "3. Oscar Alcántara "
      ]
    },
    {
      "cell_type": "markdown",
      "metadata": {
        "id": "85N4a8WmgpAB",
        "colab_type": "text"
      },
      "source": [
        "**Ejercicio #1** "
      ]
    },
    {
      "cell_type": "code",
      "metadata": {
        "id": "8Oi4YJf6gHI-",
        "colab_type": "code",
        "colab": {
          "base_uri": "https://localhost:8080/",
          "height": 173
        },
        "outputId": "d5ac0ead-f2ee-4552-dcb0-5467e2364ef2"
      },
      "source": [
        "import numpy as np \n",
        "import math\n",
        "import matplotlib.pyplot as plt\n",
        "y0 = int(input(\"Ingrese su posición incial : \"))\n",
        "print(y0)\n",
        "\n",
        "v0 = int(input(\"Ingrese su velocidad incial : \"))\n",
        "print(v0)\n",
        "\n",
        "#Posición Final donde caerá el proyectil. \n",
        "y = int(input(\"Ingrese su posición final : \"))\n",
        "print(y)\n",
        "\n",
        "ay = float(input(\"Ingrese su aceleración : \"))\n",
        "print(ay)\n",
        "\n",
        "a = 1\n",
        "b = -2*v0/ay\n",
        "c = 2*(y-y0)/ay\n",
        "\n",
        "#t = (2*v0/ay)\n",
        "d = b**2-4*a*c # discriminante\n",
        "if d < 0:\n",
        "    print (\"Esta ecuación no tiene solución en los reales\")\n",
        "elif d == 0:\n",
        "    t = (-b+math.sqrt(b**2-4*a*c))/2*a\n",
        "    print (\"Esta ecuación tiene una única solución: \", t)\n",
        "else:\n",
        "    t1 = (-b+math.sqrt((b**2)-(4*(a*c))))/(2*a)\n",
        "    t2 = (-b-math.sqrt((b**2)-(4*(a*c))))/(2*a)\n",
        "    if t1 > 0:\n",
        "        print (\"El tiempo total es: \", t1)\n",
        "    elif t2 > 0:\n",
        "        print (\"El tiempo total es: \", t2)\n",
        "    else: \n",
        "        print (\"No existe solución\")\n"
      ],
      "execution_count": null,
      "outputs": [
        {
          "output_type": "stream",
          "text": [
            "Ingrese su posición incial : 10\n",
            "10\n",
            "Ingrese su velocidad incial : 0\n",
            "0\n",
            "Ingrese su posición final : 0\n",
            "0\n",
            "Ingrese su aceleración : 9.8\n",
            "9.8\n",
            "El tiempo total es:  1.4285714285714286\n"
          ],
          "name": "stdout"
        }
      ]
    },
    {
      "cell_type": "markdown",
      "metadata": {
        "id": "8FAS3lL_hFrP",
        "colab_type": "text"
      },
      "source": [
        "**Ejercicio #2**"
      ]
    },
    {
      "cell_type": "code",
      "metadata": {
        "id": "BEcZvxwehLHW",
        "colab_type": "code",
        "colab": {}
      },
      "source": [
        ""
      ],
      "execution_count": null,
      "outputs": []
    },
    {
      "cell_type": "markdown",
      "metadata": {
        "id": "J-R7mY3HhO_J",
        "colab_type": "text"
      },
      "source": [
        "**Ejercicio #3**\n"
      ]
    },
    {
      "cell_type": "code",
      "metadata": {
        "id": "AYQkJdrIhYac",
        "colab_type": "code",
        "colab": {}
      },
      "source": [
        ""
      ],
      "execution_count": null,
      "outputs": []
    },
    {
      "cell_type": "markdown",
      "metadata": {
        "id": "-wmLDfU_hbX2",
        "colab_type": "text"
      },
      "source": [
        "**Ejercicio #4**"
      ]
    },
    {
      "cell_type": "code",
      "metadata": {
        "id": "3vbxuIjehlFl",
        "colab_type": "code",
        "colab": {
          "base_uri": "https://localhost:8080/",
          "height": 204
        },
        "outputId": "e7a196ad-ed64-48a5-e5cf-0862c08f7e83"
      },
      "source": [
        "import numpy as np \n",
        "import math\n",
        "import matplotlib.pyplot as plt\n",
        "\n",
        "px = int(input(\"Ingrese su posición final en x: \"))\n",
        "print(px)\n",
        "\n",
        "py = int(input(\"Ingrese su posición final en y: \"))\n",
        "print(py)\n",
        "\n",
        "w = int(input(\"Ingrese el ancho de la fortaleza: \"))\n",
        "print(w)\n",
        "\n",
        "h = int(input(\"Ingrese la altura de la fortaleza: \"))\n",
        "print(h)\n",
        "\n",
        "ay = float(input(\"Ingrese su aceleración : \"))\n",
        "print(ay)\n",
        "\n",
        "a = 1\n",
        "b = -(px+w)/ay\n",
        "c = (py+ay+h)/ay\n",
        "\n",
        "d = (b)**2-4*a*c # discriminante\n",
        "if d < 0:\n",
        "    print (\"Esta ecuación no tiene solución en los reales\")\n",
        "elif d == 0:\n",
        "    angulo = math.atan((-b/2*a))    \n",
        "    print (\"Esta ecuación tiene una única solución\", round(angulo,2))\n",
        "else:\n",
        "    angulo1 = math.atan((-b+math.sqrt((b**2)-(4*(a*c))))/(2*a))\n",
        "    angulo2 = math.atan((-b-math.sqrt((b**2)-(4*(a*c))))/(2*a))\n",
        "    if angulo1 or angulo2 <= math.pi/2:\n",
        "        print (\"Los angulos totales serían: \", round(angulo1,2), \"y\", round(angulo2,2))\n",
        "        #print (\"El tiempo total es: \", angulo2)\n",
        "    else: \n",
        "        print (\"No existe solución\")"
      ],
      "execution_count": 1,
      "outputs": [
        {
          "output_type": "stream",
          "text": [
            "Ingrese su posición final en x: 90\n",
            "90\n",
            "Ingrese su posición final en y: 4\n",
            "4\n",
            "Ingrese el ancho de la fortaleza: 8\n",
            "8\n",
            "Ingrese la altura de la fortaleza: 10\n",
            "10\n",
            "Ingrese su aceleración : 9.81\n",
            "9.81\n",
            "Los angulos totales serían:  1.47 0.24\n"
          ],
          "name": "stdout"
        }
      ]
    },
    {
      "cell_type": "markdown",
      "metadata": {
        "id": "__H8yofShpUl",
        "colab_type": "text"
      },
      "source": [
        "**Ejercicio #5**"
      ]
    },
    {
      "cell_type": "code",
      "metadata": {
        "id": "hGGcufHlhvDC",
        "colab_type": "code",
        "colab": {}
      },
      "source": [
        ""
      ],
      "execution_count": null,
      "outputs": []
    },
    {
      "cell_type": "markdown",
      "metadata": {
        "id": "aN8DTcEhh0rD",
        "colab_type": "text"
      },
      "source": [
        "**Ejercicio #6**"
      ]
    },
    {
      "cell_type": "code",
      "metadata": {
        "id": "etNdwC4fh4UO",
        "colab_type": "code",
        "colab": {
          "base_uri": "https://localhost:8080/",
          "height": 258
        },
        "outputId": "a63fbce6-5b08-4866-895d-f89dcfcafae3"
      },
      "source": [
        "import matplotlib.pyplot as plt\n",
        "import numpy as np\n",
        "import itertools\n",
        "\n",
        "v0y = float(input(\"Ingrese su velocidad incial en y: \"))\n",
        "print(v0y)\n",
        "\n",
        "v0x = float(input(\"Ingrese su velocidad incial en x: \"))\n",
        "print(v0x)\n",
        "\n",
        "p0x = float(input(\"Ingrese la posición inicial en x: \"))\n",
        "print(p0x)\n",
        "\n",
        "p0y = float(input(\"Ingrese la posición inicial en y: \"))\n",
        "print(p0y)\n",
        "\n",
        "ay = float(input(\"Ingrese la aceleración: \"))\n",
        "print(ay)\n",
        "\n",
        "t1 = float(input(\"Ingrese el tiempo: \"))\n",
        "print(t1)\n",
        "\n",
        "#Creación del vector tiempo\n",
        "vt = np.arange(0,t1,0.2)\n",
        "\n",
        "R =  6.4*(10**6)\n",
        "\n",
        "lista_a_rellenar = []\n",
        "\n",
        "for t in vt:\n",
        "    x = p0x + v0x * t\n",
        "    y = p0y + (v0y * t)+(ay/2)*t**2\n",
        "    ay = ay*(R/(y+R))**2\n",
        "    lista_a_rellenar.append(float(round(ay,4)))\n",
        "\n",
        "\n",
        "paresOrdenados = list(itertools.zip_longest(vt, lista_a_rellenar))\n",
        "\n",
        "print(\"Pares Ordenadas del tiempo, con respecto a la aceleracion\",paresOrdenados)\n",
        "\n",
        "#En este programa se ejemplifica en un recorrido con respecto \n",
        "#al tiempo del proyectil, donde obtiene la posición a cierta \n",
        "#aceleración gravitaciónal inicial, \n",
        "#la cual va variando con respecto a la posición que\n",
        "#depende del tiempo; la aceleración no depende directamente \n",
        "#del tiempo sino la posición la cual se modifica con el tiempo \n",
        "#y va influyendo en la gravedad con respecto a los cambios de altura"
      ],
      "execution_count": 2,
      "outputs": [
        {
          "output_type": "stream",
          "text": [
            "Ingrese su velocidad incial en y: 10\n",
            "10.0\n",
            "Ingrese su velocidad incial en x: 12\n",
            "12.0\n",
            "Ingrese la posición inicial en x: 8\n",
            "8.0\n",
            "Ingrese la posición inicial en y: 2\n",
            "2.0\n",
            "Ingrese la aceleración: 9.81\n",
            "9.81\n",
            "Ingrese el tiempo: 30\n",
            "30.0\n",
            "[(0.0, 9.81), (0.2, 9.81), (0.4, 9.81), (0.6000000000000001, 9.8099), (0.8, 9.8099), (1.0, 9.8098), (1.2000000000000002, 9.8098), (1.4000000000000001, 9.8097), (1.6, 9.8096), (1.8, 9.8095), (2.0, 9.8094), (2.2, 9.8092), (2.4000000000000004, 9.8091), (2.6, 9.8089), (2.8000000000000003, 9.8087), (3.0, 9.8084), (3.2, 9.8082), (3.4000000000000004, 9.8079), (3.6, 9.8076), (3.8000000000000003, 9.8072), (4.0, 9.8069), (4.2, 9.8065), (4.4, 9.806), (4.6000000000000005, 9.8056), (4.800000000000001, 9.8051), (5.0, 9.8045), (5.2, 9.804), (5.4, 9.8033), (5.6000000000000005, 9.8027), (5.800000000000001, 9.802), (6.0, 9.8013), (6.2, 9.8005), (6.4, 9.7997), (6.6000000000000005, 9.7988), (6.800000000000001, 9.7979), (7.0, 9.797), (7.2, 9.796), (7.4, 9.7949), (7.6000000000000005, 9.7938), (7.800000000000001, 9.7926), (8.0, 9.7914), (8.200000000000001, 9.7902), (8.4, 9.7889), (8.6, 9.7875), (8.8, 9.786), (9.0, 9.7845), (9.200000000000001, 9.783), (9.4, 9.7814), (9.600000000000001, 9.7797), (9.8, 9.778), (10.0, 9.7762), (10.200000000000001, 9.7743), (10.4, 9.7723), (10.600000000000001, 9.7703), (10.8, 9.7683), (11.0, 9.7661), (11.200000000000001, 9.7639), (11.4, 9.7616), (11.600000000000001, 9.7593), (11.8, 9.7568), (12.0, 9.7543), (12.200000000000001, 9.7517), (12.4, 9.749), (12.600000000000001, 9.7463), (12.8, 9.7435), (13.0, 9.7406), (13.200000000000001, 9.7376), (13.4, 9.7345), (13.600000000000001, 9.7313), (13.8, 9.7281), (14.0, 9.7248), (14.200000000000001, 9.7213), (14.4, 9.7178), (14.600000000000001, 9.7143), (14.8, 9.7106), (15.0, 9.7068), (15.200000000000001, 9.7029), (15.4, 9.699), (15.600000000000001, 9.6949), (15.8, 9.6908), (16.0, 9.6865), (16.2, 9.6822), (16.400000000000002, 9.6777), (16.6, 9.6732), (16.8, 9.6686), (17.0, 9.6638), (17.2, 9.659), (17.400000000000002, 9.654), (17.6, 9.649), (17.8, 9.6438), (18.0, 9.6386), (18.2, 9.6332), (18.400000000000002, 9.6278), (18.6, 9.6222), (18.8, 9.6165), (19.0, 9.6107), (19.200000000000003, 9.6048), (19.400000000000002, 9.5988), (19.6, 9.5927), (19.8, 9.5864), (20.0, 9.5801), (20.200000000000003, 9.5736), (20.400000000000002, 9.5671), (20.6, 9.5604), (20.8, 9.5536), (21.0, 9.5467), (21.200000000000003, 9.5396), (21.400000000000002, 9.5325), (21.6, 9.5252), (21.8, 9.5178), (22.0, 9.5103), (22.200000000000003, 9.5027), (22.400000000000002, 9.4949), (22.6, 9.4871), (22.8, 9.4791), (23.0, 9.471), (23.200000000000003, 9.4627), (23.400000000000002, 9.4544), (23.6, 9.4459), (23.8, 9.4373), (24.0, 9.4286), (24.200000000000003, 9.4197), (24.400000000000002, 9.4108), (24.6, 9.4017), (24.8, 9.3924), (25.0, 9.3831), (25.200000000000003, 9.3736), (25.400000000000002, 9.364), (25.6, 9.3543), (25.8, 9.3444), (26.0, 9.3345), (26.200000000000003, 9.3244), (26.400000000000002, 9.3141), (26.6, 9.3038), (26.8, 9.2933), (27.0, 9.2827), (27.200000000000003, 9.2719), (27.400000000000002, 9.261), (27.6, 9.25), (27.8, 9.2389), (28.0, 9.2276), (28.200000000000003, 9.2163), (28.400000000000002, 9.2047), (28.6, 9.1931), (28.8, 9.1813), (29.0, 9.1694), (29.200000000000003, 9.1574), (29.400000000000002, 9.1452), (29.6, 9.1329), (29.8, 9.1205)]\n"
          ],
          "name": "stdout"
        }
      ]
    },
    {
      "cell_type": "markdown",
      "metadata": {
        "id": "Mu4P3pLdiTdp",
        "colab_type": "text"
      },
      "source": [
        "**Ejercicio #7**"
      ]
    },
    {
      "cell_type": "code",
      "metadata": {
        "id": "aPdInF9EiYWk",
        "colab_type": "code",
        "colab": {}
      },
      "source": [
        ""
      ],
      "execution_count": null,
      "outputs": []
    },
    {
      "cell_type": "markdown",
      "metadata": {
        "id": "48Re0Xn3ibhm",
        "colab_type": "text"
      },
      "source": [
        "# Llego el momento de los challenge's "
      ]
    },
    {
      "cell_type": "markdown",
      "metadata": {
        "id": "aFdZ8qy5ivR7",
        "colab_type": "text"
      },
      "source": [
        "**CHALLENGE #1**"
      ]
    },
    {
      "cell_type": "code",
      "metadata": {
        "id": "A-rNrn71iuaq",
        "colab_type": "code",
        "colab": {}
      },
      "source": [
        ""
      ],
      "execution_count": null,
      "outputs": []
    },
    {
      "cell_type": "markdown",
      "metadata": {
        "id": "2NADEmkAkPjV",
        "colab_type": "text"
      },
      "source": [
        "**CHALLENGE #2**"
      ]
    },
    {
      "cell_type": "code",
      "metadata": {
        "id": "4v7w3vJVkUQL",
        "colab_type": "code",
        "colab": {}
      },
      "source": [
        ""
      ],
      "execution_count": null,
      "outputs": []
    },
    {
      "cell_type": "markdown",
      "metadata": {
        "id": "hYgVfU1-kXRE",
        "colab_type": "text"
      },
      "source": [
        "**CHALLENGE #3**"
      ]
    },
    {
      "cell_type": "code",
      "metadata": {
        "id": "l1KnbPA2kbJq",
        "colab_type": "code",
        "colab": {
          "base_uri": "https://localhost:8080/",
          "height": 272
        },
        "outputId": "0902ebbf-0eae-4a91-e16c-baf9586ac9ae"
      },
      "source": [
        "#CHALLENGE 3\n",
        "import numpy as np \n",
        "import math\n",
        "import random\n",
        "\n",
        "\n",
        "#DATOS PROYECTIL #1\n",
        "p_inicial_1_x = float(input(\"Ingrese la posicion inicial en x del primer cohete: \"))\n",
        "print(p_inicial_1_x)\n",
        "\n",
        "p_inicial_y_fija = 0;\n",
        "\n",
        "v_inicial_1 = float(input(\"Ingrese la magnitud de la velocidad del primer cohete: \"))\n",
        "print(v_inicial_1)\n",
        "\n",
        "angulo_proyectil_1 = float(input(\"Ingrese el angulo inicial del primer cohete: \"))\n",
        "print(angulo_proyectil_1)\n",
        "\n",
        "ay = float(input(\"Ingrese su aceleración: \"))\n",
        "print(ay)\n",
        "\n",
        "#DATOS PROYECTIL #2\n",
        "v_inicial_2 = float(input(\"Ingrese la magnitud de la velocidad del segundo cohete: \"))\n",
        "print(v_inicial_2)\n",
        "\n",
        "angulo_proyectil_2 = float(input(\"Ingrese el angulo inicial del segundo cohete: \"))\n",
        "print(angulo_proyectil_2)\n",
        "\n",
        "#EXISTENCIA DE UN TIEMPO DE VUELO EN QUE AMBOS CHOQUEN\n",
        "\n",
        "#INFORMACION PARA INICIAR EL CONDICIONAL\n",
        "p_final_1_x = 1\n",
        "p_final_1_y = 0\n",
        "p_final_2_x = 1\n",
        "p_final_2_y = 0\n",
        "\n",
        "while p_final_1_x == p_final_2_x and p_final_1_y == p_final_2_y:\n",
        "  #t=random.uniform(0,120)\n",
        "  t=random.random()\n",
        "  p_final_1_x = (p_inicial_1_x) + ((v_inicial_1)*math.cos(angulo_proyectil_1))*t\n",
        "  p_final_1_y = (p_inicial_y_fija) + ((v_inicial_1)*math.sin(angulo_proyectil_1))*t + (1/2)*ay*(t)\n",
        "  p_final_2_x = (p_inicial_1_x) + ((v_inicial_2)*math.cos(angulo_proyectil_2))*t\n",
        "  p_final_2_y = (p_inicial_y_fija) + ((v_inicial_2)*math.sin(angulo_proyectil_2))*t + (1/2)*ay*(t)\n",
        "\n",
        "print(\"La coordenada final en x, donde se cumple el choque para el proyectil 2 es,\",round(p_final_2_x,2))\n",
        "print(\"La coordenada final en y, donde se cumple el choque para el proyectil 2 es,\",round(p_final_2_y,2))\n",
        "print(\"El tiempo donde se da la colision es,\",round(t,2))"
      ],
      "execution_count": 4,
      "outputs": [
        {
          "output_type": "stream",
          "text": [
            "Ingrese la posicion inicial en x del primer cohete: 0\n",
            "0.0\n",
            "Ingrese la magnitud de la velocidad del primer cohete: 120\n",
            "120.0\n",
            "Ingrese el angulo inicial del primer cohete: 40\n",
            "40.0\n",
            "Ingrese su aceleración: 9.81\n",
            "9.81\n",
            "Ingrese la magnitud de la velocidad del segundo cohete: 30\n",
            "30.0\n",
            "Ingrese el angulo inicial del segundo cohete: 14\n",
            "14.0\n",
            "La coordenada final en x, donde se cumple el choque para el proyectil 2 es, 2.8\n",
            "La coordenada final en y, donde se cumple el choque para el proyectil 2 es, 23.67\n",
            "El tiempo donde se da la colision es, 0.68\n"
          ],
          "name": "stdout"
        }
      ]
    }
  ]
}